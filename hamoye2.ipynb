{
  "nbformat": 4,
  "nbformat_minor": 0,
  "metadata": {
    "colab": {
      "name": "hamoye2.ipynb",
      "provenance": [],
      "collapsed_sections": [],
      "authorship_tag": "ABX9TyMNG8pKmqH+K4rr9r7yQvTa",
      "include_colab_link": true
    },
    "kernelspec": {
      "name": "python3",
      "display_name": "Python 3"
    }
  },
  "cells": [
    {
      "cell_type": "markdown",
      "metadata": {
        "id": "view-in-github",
        "colab_type": "text"
      },
      "source": [
        "<a href=\"https://colab.research.google.com/github/lawielas/Hamoye-Data-Science-Internship/blob/master/hamoye2.ipynb\" target=\"_parent\"><img src=\"https://colab.research.google.com/assets/colab-badge.svg\" alt=\"Open In Colab\"/></a>"
      ]
    },
    {
      "cell_type": "markdown",
      "metadata": {
        "id": "jM720Is5nIZf",
        "colab_type": "text"
      },
      "source": [
        "<b><h1>HDSC week two quiz code</h1></b>"
      ]
    },
    {
      "cell_type": "code",
      "metadata": {
        "id": "GcyHZk04AjK8",
        "colab_type": "code",
        "colab": {
          "base_uri": "https://localhost:8080/",
          "height": 74
        },
        "outputId": "770e00e3-2e41-41c7-fe4c-f19abf72d5dc"
      },
      "source": [
        "#import necessary libraries\n",
        "import pandas as pd\n",
        "import numpy as np\n",
        "import matplotlib.pyplot as plt\n",
        "import matplotlib.gridspec as gridspec\n",
        "import seaborn as sns"
      ],
      "execution_count": 1,
      "outputs": [
        {
          "output_type": "stream",
          "text": [
            "/usr/local/lib/python3.6/dist-packages/statsmodels/tools/_testing.py:19: FutureWarning: pandas.util.testing is deprecated. Use the functions in the public API at pandas.testing instead.\n",
            "  import pandas.util.testing as tm\n"
          ],
          "name": "stderr"
        }
      ]
    },
    {
      "cell_type": "code",
      "metadata": {
        "id": "oRUz8kbzEMwG",
        "colab_type": "code",
        "colab": {}
      },
      "source": [
        "#loading dataset from github\n",
        "url='https://raw.githubusercontent.com/lawielas/Hamoye-Data-Science-Internship/Data/energydata_complete.csv'"
      ],
      "execution_count": 2,
      "outputs": []
    },
    {
      "cell_type": "code",
      "metadata": {
        "id": "1OtcjHL1E1P0",
        "colab_type": "code",
        "colab": {}
      },
      "source": [
        "energy_data= pd.read_csv(url, error_bad_lines=False)"
      ],
      "execution_count": 3,
      "outputs": []
    },
    {
      "cell_type": "code",
      "metadata": {
        "id": "5YwiZUzuFNHG",
        "colab_type": "code",
        "colab": {
          "base_uri": "https://localhost:8080/",
          "height": 313
        },
        "outputId": "739ff82a-37e5-4548-d903-854c824919f1"
      },
      "source": [
        "energy_data.head()"
      ],
      "execution_count": 4,
      "outputs": [
        {
          "output_type": "execute_result",
          "data": {
            "text/html": [
              "<div>\n",
              "<style scoped>\n",
              "    .dataframe tbody tr th:only-of-type {\n",
              "        vertical-align: middle;\n",
              "    }\n",
              "\n",
              "    .dataframe tbody tr th {\n",
              "        vertical-align: top;\n",
              "    }\n",
              "\n",
              "    .dataframe thead th {\n",
              "        text-align: right;\n",
              "    }\n",
              "</style>\n",
              "<table border=\"1\" class=\"dataframe\">\n",
              "  <thead>\n",
              "    <tr style=\"text-align: right;\">\n",
              "      <th></th>\n",
              "      <th>date</th>\n",
              "      <th>Appliances</th>\n",
              "      <th>lights</th>\n",
              "      <th>T1</th>\n",
              "      <th>RH_1</th>\n",
              "      <th>T2</th>\n",
              "      <th>RH_2</th>\n",
              "      <th>T3</th>\n",
              "      <th>RH_3</th>\n",
              "      <th>T4</th>\n",
              "      <th>RH_4</th>\n",
              "      <th>T5</th>\n",
              "      <th>RH_5</th>\n",
              "      <th>T6</th>\n",
              "      <th>RH_6</th>\n",
              "      <th>T7</th>\n",
              "      <th>RH_7</th>\n",
              "      <th>T8</th>\n",
              "      <th>RH_8</th>\n",
              "      <th>T9</th>\n",
              "      <th>RH_9</th>\n",
              "      <th>T_out</th>\n",
              "      <th>Press_mm_hg</th>\n",
              "      <th>RH_out</th>\n",
              "      <th>Windspeed</th>\n",
              "      <th>Visibility</th>\n",
              "      <th>Tdewpoint</th>\n",
              "      <th>rv1</th>\n",
              "      <th>rv2</th>\n",
              "    </tr>\n",
              "  </thead>\n",
              "  <tbody>\n",
              "    <tr>\n",
              "      <th>0</th>\n",
              "      <td>2016-01-11 17:00:00</td>\n",
              "      <td>60</td>\n",
              "      <td>30</td>\n",
              "      <td>19.89</td>\n",
              "      <td>47.596667</td>\n",
              "      <td>19.2</td>\n",
              "      <td>44.790000</td>\n",
              "      <td>19.79</td>\n",
              "      <td>44.730000</td>\n",
              "      <td>19.000000</td>\n",
              "      <td>45.566667</td>\n",
              "      <td>17.166667</td>\n",
              "      <td>55.20</td>\n",
              "      <td>7.026667</td>\n",
              "      <td>84.256667</td>\n",
              "      <td>17.200000</td>\n",
              "      <td>41.626667</td>\n",
              "      <td>18.2</td>\n",
              "      <td>48.900000</td>\n",
              "      <td>17.033333</td>\n",
              "      <td>45.53</td>\n",
              "      <td>6.600000</td>\n",
              "      <td>733.5</td>\n",
              "      <td>92.0</td>\n",
              "      <td>7.000000</td>\n",
              "      <td>63.000000</td>\n",
              "      <td>5.3</td>\n",
              "      <td>13.275433</td>\n",
              "      <td>13.275433</td>\n",
              "    </tr>\n",
              "    <tr>\n",
              "      <th>1</th>\n",
              "      <td>2016-01-11 17:10:00</td>\n",
              "      <td>60</td>\n",
              "      <td>30</td>\n",
              "      <td>19.89</td>\n",
              "      <td>46.693333</td>\n",
              "      <td>19.2</td>\n",
              "      <td>44.722500</td>\n",
              "      <td>19.79</td>\n",
              "      <td>44.790000</td>\n",
              "      <td>19.000000</td>\n",
              "      <td>45.992500</td>\n",
              "      <td>17.166667</td>\n",
              "      <td>55.20</td>\n",
              "      <td>6.833333</td>\n",
              "      <td>84.063333</td>\n",
              "      <td>17.200000</td>\n",
              "      <td>41.560000</td>\n",
              "      <td>18.2</td>\n",
              "      <td>48.863333</td>\n",
              "      <td>17.066667</td>\n",
              "      <td>45.56</td>\n",
              "      <td>6.483333</td>\n",
              "      <td>733.6</td>\n",
              "      <td>92.0</td>\n",
              "      <td>6.666667</td>\n",
              "      <td>59.166667</td>\n",
              "      <td>5.2</td>\n",
              "      <td>18.606195</td>\n",
              "      <td>18.606195</td>\n",
              "    </tr>\n",
              "    <tr>\n",
              "      <th>2</th>\n",
              "      <td>2016-01-11 17:20:00</td>\n",
              "      <td>50</td>\n",
              "      <td>30</td>\n",
              "      <td>19.89</td>\n",
              "      <td>46.300000</td>\n",
              "      <td>19.2</td>\n",
              "      <td>44.626667</td>\n",
              "      <td>19.79</td>\n",
              "      <td>44.933333</td>\n",
              "      <td>18.926667</td>\n",
              "      <td>45.890000</td>\n",
              "      <td>17.166667</td>\n",
              "      <td>55.09</td>\n",
              "      <td>6.560000</td>\n",
              "      <td>83.156667</td>\n",
              "      <td>17.200000</td>\n",
              "      <td>41.433333</td>\n",
              "      <td>18.2</td>\n",
              "      <td>48.730000</td>\n",
              "      <td>17.000000</td>\n",
              "      <td>45.50</td>\n",
              "      <td>6.366667</td>\n",
              "      <td>733.7</td>\n",
              "      <td>92.0</td>\n",
              "      <td>6.333333</td>\n",
              "      <td>55.333333</td>\n",
              "      <td>5.1</td>\n",
              "      <td>28.642668</td>\n",
              "      <td>28.642668</td>\n",
              "    </tr>\n",
              "    <tr>\n",
              "      <th>3</th>\n",
              "      <td>2016-01-11 17:30:00</td>\n",
              "      <td>50</td>\n",
              "      <td>40</td>\n",
              "      <td>19.89</td>\n",
              "      <td>46.066667</td>\n",
              "      <td>19.2</td>\n",
              "      <td>44.590000</td>\n",
              "      <td>19.79</td>\n",
              "      <td>45.000000</td>\n",
              "      <td>18.890000</td>\n",
              "      <td>45.723333</td>\n",
              "      <td>17.166667</td>\n",
              "      <td>55.09</td>\n",
              "      <td>6.433333</td>\n",
              "      <td>83.423333</td>\n",
              "      <td>17.133333</td>\n",
              "      <td>41.290000</td>\n",
              "      <td>18.1</td>\n",
              "      <td>48.590000</td>\n",
              "      <td>17.000000</td>\n",
              "      <td>45.40</td>\n",
              "      <td>6.250000</td>\n",
              "      <td>733.8</td>\n",
              "      <td>92.0</td>\n",
              "      <td>6.000000</td>\n",
              "      <td>51.500000</td>\n",
              "      <td>5.0</td>\n",
              "      <td>45.410389</td>\n",
              "      <td>45.410389</td>\n",
              "    </tr>\n",
              "    <tr>\n",
              "      <th>4</th>\n",
              "      <td>2016-01-11 17:40:00</td>\n",
              "      <td>60</td>\n",
              "      <td>40</td>\n",
              "      <td>19.89</td>\n",
              "      <td>46.333333</td>\n",
              "      <td>19.2</td>\n",
              "      <td>44.530000</td>\n",
              "      <td>19.79</td>\n",
              "      <td>45.000000</td>\n",
              "      <td>18.890000</td>\n",
              "      <td>45.530000</td>\n",
              "      <td>17.200000</td>\n",
              "      <td>55.09</td>\n",
              "      <td>6.366667</td>\n",
              "      <td>84.893333</td>\n",
              "      <td>17.200000</td>\n",
              "      <td>41.230000</td>\n",
              "      <td>18.1</td>\n",
              "      <td>48.590000</td>\n",
              "      <td>17.000000</td>\n",
              "      <td>45.40</td>\n",
              "      <td>6.133333</td>\n",
              "      <td>733.9</td>\n",
              "      <td>92.0</td>\n",
              "      <td>5.666667</td>\n",
              "      <td>47.666667</td>\n",
              "      <td>4.9</td>\n",
              "      <td>10.084097</td>\n",
              "      <td>10.084097</td>\n",
              "    </tr>\n",
              "  </tbody>\n",
              "</table>\n",
              "</div>"
            ],
            "text/plain": [
              "                  date  Appliances  lights  ...  Tdewpoint        rv1        rv2\n",
              "0  2016-01-11 17:00:00          60      30  ...        5.3  13.275433  13.275433\n",
              "1  2016-01-11 17:10:00          60      30  ...        5.2  18.606195  18.606195\n",
              "2  2016-01-11 17:20:00          50      30  ...        5.1  28.642668  28.642668\n",
              "3  2016-01-11 17:30:00          50      40  ...        5.0  45.410389  45.410389\n",
              "4  2016-01-11 17:40:00          60      40  ...        4.9  10.084097  10.084097\n",
              "\n",
              "[5 rows x 29 columns]"
            ]
          },
          "metadata": {
            "tags": []
          },
          "execution_count": 4
        }
      ]
    },
    {
      "cell_type": "code",
      "metadata": {
        "id": "niiWtVHvFPxJ",
        "colab_type": "code",
        "colab": {}
      },
      "source": [
        "#renaming the columns\n",
        "column_names={'date':'timestamp', 'Appliances':'appliances_energy', 'lights':'lights_energy', 'T1':'temperature_kitchen',\n",
        "              'RH_1':'humidity_kitchen', 'T2':'temperature_livingroom', 'RH_2':'humidity_livingroom', 'T3':'temperature_lundary', 'RH_3':'humidity_lundary', 'T4':'temperature_office',\n",
        "              'RH_4':'humidity_office', 'T5':'temperature_bathroom', 'RH_5':'humidity_bathroom', 'T6':'temperature_north', 'RH_6':'humidity_north', 'T7':'temperature_ironingroom', \n",
        "              'RH_7':'humidity_ironingroom', 'T8':'temperature_teenager', 'RH_8':'humidity_teenager', 'T9':'temperature_parent', 'RH_9':'humidity_parent', 'T_out':'temperature_out', \n",
        "              'Press_mm_hg':'pressure_mm_hg', 'RH_out':'humidity_outside', 'Windspeed':'windspeed', \n",
        "              'Visibility':'visibility', 'Tdewpoint':'tdewpoint', 'rv1':'random_variable_1', 'rv2':'random_variable_2'}"
      ],
      "execution_count": 5,
      "outputs": []
    },
    {
      "cell_type": "code",
      "metadata": {
        "id": "2-nLVPwgUJQQ",
        "colab_type": "code",
        "colab": {}
      },
      "source": [
        "energy_data=energy_data.rename(columns=column_names)"
      ],
      "execution_count": 6,
      "outputs": []
    },
    {
      "cell_type": "code",
      "metadata": {
        "id": "-F9EFLGUUY3k",
        "colab_type": "code",
        "colab": {
          "base_uri": "https://localhost:8080/",
          "height": 313
        },
        "outputId": "a71682e7-4773-41d4-efb7-48bb5faaee8c"
      },
      "source": [
        "energy_data.head()"
      ],
      "execution_count": 7,
      "outputs": [
        {
          "output_type": "execute_result",
          "data": {
            "text/html": [
              "<div>\n",
              "<style scoped>\n",
              "    .dataframe tbody tr th:only-of-type {\n",
              "        vertical-align: middle;\n",
              "    }\n",
              "\n",
              "    .dataframe tbody tr th {\n",
              "        vertical-align: top;\n",
              "    }\n",
              "\n",
              "    .dataframe thead th {\n",
              "        text-align: right;\n",
              "    }\n",
              "</style>\n",
              "<table border=\"1\" class=\"dataframe\">\n",
              "  <thead>\n",
              "    <tr style=\"text-align: right;\">\n",
              "      <th></th>\n",
              "      <th>timestamp</th>\n",
              "      <th>appliances_energy</th>\n",
              "      <th>lights_energy</th>\n",
              "      <th>temperature_kitchen</th>\n",
              "      <th>humidity_kitchen</th>\n",
              "      <th>temperature_livingroom</th>\n",
              "      <th>humidity_livingroom</th>\n",
              "      <th>temperature_lundary</th>\n",
              "      <th>humidity_lundary</th>\n",
              "      <th>temperature_office</th>\n",
              "      <th>humidity_office</th>\n",
              "      <th>temperature_bathroom</th>\n",
              "      <th>humidity_bathroom</th>\n",
              "      <th>temperature_north</th>\n",
              "      <th>humidity_north</th>\n",
              "      <th>temperature_ironingroom</th>\n",
              "      <th>humidity_ironingroom</th>\n",
              "      <th>temperature_teenager</th>\n",
              "      <th>humidity_teenager</th>\n",
              "      <th>temperature_parent</th>\n",
              "      <th>humidity_parent</th>\n",
              "      <th>temperature_out</th>\n",
              "      <th>pressure_mm_hg</th>\n",
              "      <th>humidity_outside</th>\n",
              "      <th>windspeed</th>\n",
              "      <th>visibility</th>\n",
              "      <th>tdewpoint</th>\n",
              "      <th>random_variable_1</th>\n",
              "      <th>random_variable_2</th>\n",
              "    </tr>\n",
              "  </thead>\n",
              "  <tbody>\n",
              "    <tr>\n",
              "      <th>0</th>\n",
              "      <td>2016-01-11 17:00:00</td>\n",
              "      <td>60</td>\n",
              "      <td>30</td>\n",
              "      <td>19.89</td>\n",
              "      <td>47.596667</td>\n",
              "      <td>19.2</td>\n",
              "      <td>44.790000</td>\n",
              "      <td>19.79</td>\n",
              "      <td>44.730000</td>\n",
              "      <td>19.000000</td>\n",
              "      <td>45.566667</td>\n",
              "      <td>17.166667</td>\n",
              "      <td>55.20</td>\n",
              "      <td>7.026667</td>\n",
              "      <td>84.256667</td>\n",
              "      <td>17.200000</td>\n",
              "      <td>41.626667</td>\n",
              "      <td>18.2</td>\n",
              "      <td>48.900000</td>\n",
              "      <td>17.033333</td>\n",
              "      <td>45.53</td>\n",
              "      <td>6.600000</td>\n",
              "      <td>733.5</td>\n",
              "      <td>92.0</td>\n",
              "      <td>7.000000</td>\n",
              "      <td>63.000000</td>\n",
              "      <td>5.3</td>\n",
              "      <td>13.275433</td>\n",
              "      <td>13.275433</td>\n",
              "    </tr>\n",
              "    <tr>\n",
              "      <th>1</th>\n",
              "      <td>2016-01-11 17:10:00</td>\n",
              "      <td>60</td>\n",
              "      <td>30</td>\n",
              "      <td>19.89</td>\n",
              "      <td>46.693333</td>\n",
              "      <td>19.2</td>\n",
              "      <td>44.722500</td>\n",
              "      <td>19.79</td>\n",
              "      <td>44.790000</td>\n",
              "      <td>19.000000</td>\n",
              "      <td>45.992500</td>\n",
              "      <td>17.166667</td>\n",
              "      <td>55.20</td>\n",
              "      <td>6.833333</td>\n",
              "      <td>84.063333</td>\n",
              "      <td>17.200000</td>\n",
              "      <td>41.560000</td>\n",
              "      <td>18.2</td>\n",
              "      <td>48.863333</td>\n",
              "      <td>17.066667</td>\n",
              "      <td>45.56</td>\n",
              "      <td>6.483333</td>\n",
              "      <td>733.6</td>\n",
              "      <td>92.0</td>\n",
              "      <td>6.666667</td>\n",
              "      <td>59.166667</td>\n",
              "      <td>5.2</td>\n",
              "      <td>18.606195</td>\n",
              "      <td>18.606195</td>\n",
              "    </tr>\n",
              "    <tr>\n",
              "      <th>2</th>\n",
              "      <td>2016-01-11 17:20:00</td>\n",
              "      <td>50</td>\n",
              "      <td>30</td>\n",
              "      <td>19.89</td>\n",
              "      <td>46.300000</td>\n",
              "      <td>19.2</td>\n",
              "      <td>44.626667</td>\n",
              "      <td>19.79</td>\n",
              "      <td>44.933333</td>\n",
              "      <td>18.926667</td>\n",
              "      <td>45.890000</td>\n",
              "      <td>17.166667</td>\n",
              "      <td>55.09</td>\n",
              "      <td>6.560000</td>\n",
              "      <td>83.156667</td>\n",
              "      <td>17.200000</td>\n",
              "      <td>41.433333</td>\n",
              "      <td>18.2</td>\n",
              "      <td>48.730000</td>\n",
              "      <td>17.000000</td>\n",
              "      <td>45.50</td>\n",
              "      <td>6.366667</td>\n",
              "      <td>733.7</td>\n",
              "      <td>92.0</td>\n",
              "      <td>6.333333</td>\n",
              "      <td>55.333333</td>\n",
              "      <td>5.1</td>\n",
              "      <td>28.642668</td>\n",
              "      <td>28.642668</td>\n",
              "    </tr>\n",
              "    <tr>\n",
              "      <th>3</th>\n",
              "      <td>2016-01-11 17:30:00</td>\n",
              "      <td>50</td>\n",
              "      <td>40</td>\n",
              "      <td>19.89</td>\n",
              "      <td>46.066667</td>\n",
              "      <td>19.2</td>\n",
              "      <td>44.590000</td>\n",
              "      <td>19.79</td>\n",
              "      <td>45.000000</td>\n",
              "      <td>18.890000</td>\n",
              "      <td>45.723333</td>\n",
              "      <td>17.166667</td>\n",
              "      <td>55.09</td>\n",
              "      <td>6.433333</td>\n",
              "      <td>83.423333</td>\n",
              "      <td>17.133333</td>\n",
              "      <td>41.290000</td>\n",
              "      <td>18.1</td>\n",
              "      <td>48.590000</td>\n",
              "      <td>17.000000</td>\n",
              "      <td>45.40</td>\n",
              "      <td>6.250000</td>\n",
              "      <td>733.8</td>\n",
              "      <td>92.0</td>\n",
              "      <td>6.000000</td>\n",
              "      <td>51.500000</td>\n",
              "      <td>5.0</td>\n",
              "      <td>45.410389</td>\n",
              "      <td>45.410389</td>\n",
              "    </tr>\n",
              "    <tr>\n",
              "      <th>4</th>\n",
              "      <td>2016-01-11 17:40:00</td>\n",
              "      <td>60</td>\n",
              "      <td>40</td>\n",
              "      <td>19.89</td>\n",
              "      <td>46.333333</td>\n",
              "      <td>19.2</td>\n",
              "      <td>44.530000</td>\n",
              "      <td>19.79</td>\n",
              "      <td>45.000000</td>\n",
              "      <td>18.890000</td>\n",
              "      <td>45.530000</td>\n",
              "      <td>17.200000</td>\n",
              "      <td>55.09</td>\n",
              "      <td>6.366667</td>\n",
              "      <td>84.893333</td>\n",
              "      <td>17.200000</td>\n",
              "      <td>41.230000</td>\n",
              "      <td>18.1</td>\n",
              "      <td>48.590000</td>\n",
              "      <td>17.000000</td>\n",
              "      <td>45.40</td>\n",
              "      <td>6.133333</td>\n",
              "      <td>733.9</td>\n",
              "      <td>92.0</td>\n",
              "      <td>5.666667</td>\n",
              "      <td>47.666667</td>\n",
              "      <td>4.9</td>\n",
              "      <td>10.084097</td>\n",
              "      <td>10.084097</td>\n",
              "    </tr>\n",
              "  </tbody>\n",
              "</table>\n",
              "</div>"
            ],
            "text/plain": [
              "             timestamp  appliances_energy  ...  random_variable_1  random_variable_2\n",
              "0  2016-01-11 17:00:00                 60  ...          13.275433          13.275433\n",
              "1  2016-01-11 17:10:00                 60  ...          18.606195          18.606195\n",
              "2  2016-01-11 17:20:00                 50  ...          28.642668          28.642668\n",
              "3  2016-01-11 17:30:00                 50  ...          45.410389          45.410389\n",
              "4  2016-01-11 17:40:00                 60  ...          10.084097          10.084097\n",
              "\n",
              "[5 rows x 29 columns]"
            ]
          },
          "metadata": {
            "tags": []
          },
          "execution_count": 7
        }
      ]
    },
    {
      "cell_type": "code",
      "metadata": {
        "id": "-AIxmS3uUcdz",
        "colab_type": "code",
        "colab": {
          "base_uri": "https://localhost:8080/",
          "height": 432
        },
        "outputId": "c7693b0a-5b5b-47d4-f334-97351544f956"
      },
      "source": [
        "energy_data.describe(include='all')"
      ],
      "execution_count": 8,
      "outputs": [
        {
          "output_type": "execute_result",
          "data": {
            "text/html": [
              "<div>\n",
              "<style scoped>\n",
              "    .dataframe tbody tr th:only-of-type {\n",
              "        vertical-align: middle;\n",
              "    }\n",
              "\n",
              "    .dataframe tbody tr th {\n",
              "        vertical-align: top;\n",
              "    }\n",
              "\n",
              "    .dataframe thead th {\n",
              "        text-align: right;\n",
              "    }\n",
              "</style>\n",
              "<table border=\"1\" class=\"dataframe\">\n",
              "  <thead>\n",
              "    <tr style=\"text-align: right;\">\n",
              "      <th></th>\n",
              "      <th>timestamp</th>\n",
              "      <th>appliances_energy</th>\n",
              "      <th>lights_energy</th>\n",
              "      <th>temperature_kitchen</th>\n",
              "      <th>humidity_kitchen</th>\n",
              "      <th>temperature_livingroom</th>\n",
              "      <th>humidity_livingroom</th>\n",
              "      <th>temperature_lundary</th>\n",
              "      <th>humidity_lundary</th>\n",
              "      <th>temperature_office</th>\n",
              "      <th>humidity_office</th>\n",
              "      <th>temperature_bathroom</th>\n",
              "      <th>humidity_bathroom</th>\n",
              "      <th>temperature_north</th>\n",
              "      <th>humidity_north</th>\n",
              "      <th>temperature_ironingroom</th>\n",
              "      <th>humidity_ironingroom</th>\n",
              "      <th>temperature_teenager</th>\n",
              "      <th>humidity_teenager</th>\n",
              "      <th>temperature_parent</th>\n",
              "      <th>humidity_parent</th>\n",
              "      <th>temperature_out</th>\n",
              "      <th>pressure_mm_hg</th>\n",
              "      <th>humidity_outside</th>\n",
              "      <th>windspeed</th>\n",
              "      <th>visibility</th>\n",
              "      <th>tdewpoint</th>\n",
              "      <th>random_variable_1</th>\n",
              "      <th>random_variable_2</th>\n",
              "    </tr>\n",
              "  </thead>\n",
              "  <tbody>\n",
              "    <tr>\n",
              "      <th>count</th>\n",
              "      <td>19735</td>\n",
              "      <td>19735.000000</td>\n",
              "      <td>19735.000000</td>\n",
              "      <td>19735.000000</td>\n",
              "      <td>19735.000000</td>\n",
              "      <td>19735.000000</td>\n",
              "      <td>19735.000000</td>\n",
              "      <td>19735.000000</td>\n",
              "      <td>19735.000000</td>\n",
              "      <td>19735.000000</td>\n",
              "      <td>19735.000000</td>\n",
              "      <td>19735.000000</td>\n",
              "      <td>19735.000000</td>\n",
              "      <td>19735.000000</td>\n",
              "      <td>19735.000000</td>\n",
              "      <td>19735.000000</td>\n",
              "      <td>19735.000000</td>\n",
              "      <td>19735.000000</td>\n",
              "      <td>19735.000000</td>\n",
              "      <td>19735.000000</td>\n",
              "      <td>19735.000000</td>\n",
              "      <td>19735.000000</td>\n",
              "      <td>19735.000000</td>\n",
              "      <td>19735.000000</td>\n",
              "      <td>19735.000000</td>\n",
              "      <td>19735.000000</td>\n",
              "      <td>19735.000000</td>\n",
              "      <td>19735.000000</td>\n",
              "      <td>19735.000000</td>\n",
              "    </tr>\n",
              "    <tr>\n",
              "      <th>unique</th>\n",
              "      <td>19735</td>\n",
              "      <td>NaN</td>\n",
              "      <td>NaN</td>\n",
              "      <td>NaN</td>\n",
              "      <td>NaN</td>\n",
              "      <td>NaN</td>\n",
              "      <td>NaN</td>\n",
              "      <td>NaN</td>\n",
              "      <td>NaN</td>\n",
              "      <td>NaN</td>\n",
              "      <td>NaN</td>\n",
              "      <td>NaN</td>\n",
              "      <td>NaN</td>\n",
              "      <td>NaN</td>\n",
              "      <td>NaN</td>\n",
              "      <td>NaN</td>\n",
              "      <td>NaN</td>\n",
              "      <td>NaN</td>\n",
              "      <td>NaN</td>\n",
              "      <td>NaN</td>\n",
              "      <td>NaN</td>\n",
              "      <td>NaN</td>\n",
              "      <td>NaN</td>\n",
              "      <td>NaN</td>\n",
              "      <td>NaN</td>\n",
              "      <td>NaN</td>\n",
              "      <td>NaN</td>\n",
              "      <td>NaN</td>\n",
              "      <td>NaN</td>\n",
              "    </tr>\n",
              "    <tr>\n",
              "      <th>top</th>\n",
              "      <td>2016-02-12 08:50:00</td>\n",
              "      <td>NaN</td>\n",
              "      <td>NaN</td>\n",
              "      <td>NaN</td>\n",
              "      <td>NaN</td>\n",
              "      <td>NaN</td>\n",
              "      <td>NaN</td>\n",
              "      <td>NaN</td>\n",
              "      <td>NaN</td>\n",
              "      <td>NaN</td>\n",
              "      <td>NaN</td>\n",
              "      <td>NaN</td>\n",
              "      <td>NaN</td>\n",
              "      <td>NaN</td>\n",
              "      <td>NaN</td>\n",
              "      <td>NaN</td>\n",
              "      <td>NaN</td>\n",
              "      <td>NaN</td>\n",
              "      <td>NaN</td>\n",
              "      <td>NaN</td>\n",
              "      <td>NaN</td>\n",
              "      <td>NaN</td>\n",
              "      <td>NaN</td>\n",
              "      <td>NaN</td>\n",
              "      <td>NaN</td>\n",
              "      <td>NaN</td>\n",
              "      <td>NaN</td>\n",
              "      <td>NaN</td>\n",
              "      <td>NaN</td>\n",
              "    </tr>\n",
              "    <tr>\n",
              "      <th>freq</th>\n",
              "      <td>1</td>\n",
              "      <td>NaN</td>\n",
              "      <td>NaN</td>\n",
              "      <td>NaN</td>\n",
              "      <td>NaN</td>\n",
              "      <td>NaN</td>\n",
              "      <td>NaN</td>\n",
              "      <td>NaN</td>\n",
              "      <td>NaN</td>\n",
              "      <td>NaN</td>\n",
              "      <td>NaN</td>\n",
              "      <td>NaN</td>\n",
              "      <td>NaN</td>\n",
              "      <td>NaN</td>\n",
              "      <td>NaN</td>\n",
              "      <td>NaN</td>\n",
              "      <td>NaN</td>\n",
              "      <td>NaN</td>\n",
              "      <td>NaN</td>\n",
              "      <td>NaN</td>\n",
              "      <td>NaN</td>\n",
              "      <td>NaN</td>\n",
              "      <td>NaN</td>\n",
              "      <td>NaN</td>\n",
              "      <td>NaN</td>\n",
              "      <td>NaN</td>\n",
              "      <td>NaN</td>\n",
              "      <td>NaN</td>\n",
              "      <td>NaN</td>\n",
              "    </tr>\n",
              "    <tr>\n",
              "      <th>mean</th>\n",
              "      <td>NaN</td>\n",
              "      <td>97.694958</td>\n",
              "      <td>3.801875</td>\n",
              "      <td>21.686571</td>\n",
              "      <td>40.259739</td>\n",
              "      <td>20.341219</td>\n",
              "      <td>40.420420</td>\n",
              "      <td>22.267611</td>\n",
              "      <td>39.242500</td>\n",
              "      <td>20.855335</td>\n",
              "      <td>39.026904</td>\n",
              "      <td>19.592106</td>\n",
              "      <td>50.949283</td>\n",
              "      <td>7.910939</td>\n",
              "      <td>54.609083</td>\n",
              "      <td>20.267106</td>\n",
              "      <td>35.388200</td>\n",
              "      <td>22.029107</td>\n",
              "      <td>42.936165</td>\n",
              "      <td>19.485828</td>\n",
              "      <td>41.552401</td>\n",
              "      <td>7.411665</td>\n",
              "      <td>755.522602</td>\n",
              "      <td>79.750418</td>\n",
              "      <td>4.039752</td>\n",
              "      <td>38.330834</td>\n",
              "      <td>3.760707</td>\n",
              "      <td>24.988033</td>\n",
              "      <td>24.988033</td>\n",
              "    </tr>\n",
              "    <tr>\n",
              "      <th>std</th>\n",
              "      <td>NaN</td>\n",
              "      <td>102.524891</td>\n",
              "      <td>7.935988</td>\n",
              "      <td>1.606066</td>\n",
              "      <td>3.979299</td>\n",
              "      <td>2.192974</td>\n",
              "      <td>4.069813</td>\n",
              "      <td>2.006111</td>\n",
              "      <td>3.254576</td>\n",
              "      <td>2.042884</td>\n",
              "      <td>4.341321</td>\n",
              "      <td>1.844623</td>\n",
              "      <td>9.022034</td>\n",
              "      <td>6.090347</td>\n",
              "      <td>31.149806</td>\n",
              "      <td>2.109993</td>\n",
              "      <td>5.114208</td>\n",
              "      <td>1.956162</td>\n",
              "      <td>5.224361</td>\n",
              "      <td>2.014712</td>\n",
              "      <td>4.151497</td>\n",
              "      <td>5.317409</td>\n",
              "      <td>7.399441</td>\n",
              "      <td>14.901088</td>\n",
              "      <td>2.451221</td>\n",
              "      <td>11.794719</td>\n",
              "      <td>4.194648</td>\n",
              "      <td>14.496634</td>\n",
              "      <td>14.496634</td>\n",
              "    </tr>\n",
              "    <tr>\n",
              "      <th>min</th>\n",
              "      <td>NaN</td>\n",
              "      <td>10.000000</td>\n",
              "      <td>0.000000</td>\n",
              "      <td>16.790000</td>\n",
              "      <td>27.023333</td>\n",
              "      <td>16.100000</td>\n",
              "      <td>20.463333</td>\n",
              "      <td>17.200000</td>\n",
              "      <td>28.766667</td>\n",
              "      <td>15.100000</td>\n",
              "      <td>27.660000</td>\n",
              "      <td>15.330000</td>\n",
              "      <td>29.815000</td>\n",
              "      <td>-6.065000</td>\n",
              "      <td>1.000000</td>\n",
              "      <td>15.390000</td>\n",
              "      <td>23.200000</td>\n",
              "      <td>16.306667</td>\n",
              "      <td>29.600000</td>\n",
              "      <td>14.890000</td>\n",
              "      <td>29.166667</td>\n",
              "      <td>-5.000000</td>\n",
              "      <td>729.300000</td>\n",
              "      <td>24.000000</td>\n",
              "      <td>0.000000</td>\n",
              "      <td>1.000000</td>\n",
              "      <td>-6.600000</td>\n",
              "      <td>0.005322</td>\n",
              "      <td>0.005322</td>\n",
              "    </tr>\n",
              "    <tr>\n",
              "      <th>25%</th>\n",
              "      <td>NaN</td>\n",
              "      <td>50.000000</td>\n",
              "      <td>0.000000</td>\n",
              "      <td>20.760000</td>\n",
              "      <td>37.333333</td>\n",
              "      <td>18.790000</td>\n",
              "      <td>37.900000</td>\n",
              "      <td>20.790000</td>\n",
              "      <td>36.900000</td>\n",
              "      <td>19.530000</td>\n",
              "      <td>35.530000</td>\n",
              "      <td>18.277500</td>\n",
              "      <td>45.400000</td>\n",
              "      <td>3.626667</td>\n",
              "      <td>30.025000</td>\n",
              "      <td>18.700000</td>\n",
              "      <td>31.500000</td>\n",
              "      <td>20.790000</td>\n",
              "      <td>39.066667</td>\n",
              "      <td>18.000000</td>\n",
              "      <td>38.500000</td>\n",
              "      <td>3.666667</td>\n",
              "      <td>750.933333</td>\n",
              "      <td>70.333333</td>\n",
              "      <td>2.000000</td>\n",
              "      <td>29.000000</td>\n",
              "      <td>0.900000</td>\n",
              "      <td>12.497889</td>\n",
              "      <td>12.497889</td>\n",
              "    </tr>\n",
              "    <tr>\n",
              "      <th>50%</th>\n",
              "      <td>NaN</td>\n",
              "      <td>60.000000</td>\n",
              "      <td>0.000000</td>\n",
              "      <td>21.600000</td>\n",
              "      <td>39.656667</td>\n",
              "      <td>20.000000</td>\n",
              "      <td>40.500000</td>\n",
              "      <td>22.100000</td>\n",
              "      <td>38.530000</td>\n",
              "      <td>20.666667</td>\n",
              "      <td>38.400000</td>\n",
              "      <td>19.390000</td>\n",
              "      <td>49.090000</td>\n",
              "      <td>7.300000</td>\n",
              "      <td>55.290000</td>\n",
              "      <td>20.033333</td>\n",
              "      <td>34.863333</td>\n",
              "      <td>22.100000</td>\n",
              "      <td>42.375000</td>\n",
              "      <td>19.390000</td>\n",
              "      <td>40.900000</td>\n",
              "      <td>6.916667</td>\n",
              "      <td>756.100000</td>\n",
              "      <td>83.666667</td>\n",
              "      <td>3.666667</td>\n",
              "      <td>40.000000</td>\n",
              "      <td>3.433333</td>\n",
              "      <td>24.897653</td>\n",
              "      <td>24.897653</td>\n",
              "    </tr>\n",
              "    <tr>\n",
              "      <th>75%</th>\n",
              "      <td>NaN</td>\n",
              "      <td>100.000000</td>\n",
              "      <td>0.000000</td>\n",
              "      <td>22.600000</td>\n",
              "      <td>43.066667</td>\n",
              "      <td>21.500000</td>\n",
              "      <td>43.260000</td>\n",
              "      <td>23.290000</td>\n",
              "      <td>41.760000</td>\n",
              "      <td>22.100000</td>\n",
              "      <td>42.156667</td>\n",
              "      <td>20.619643</td>\n",
              "      <td>53.663333</td>\n",
              "      <td>11.256000</td>\n",
              "      <td>83.226667</td>\n",
              "      <td>21.600000</td>\n",
              "      <td>39.000000</td>\n",
              "      <td>23.390000</td>\n",
              "      <td>46.536000</td>\n",
              "      <td>20.600000</td>\n",
              "      <td>44.338095</td>\n",
              "      <td>10.408333</td>\n",
              "      <td>760.933333</td>\n",
              "      <td>91.666667</td>\n",
              "      <td>5.500000</td>\n",
              "      <td>40.000000</td>\n",
              "      <td>6.566667</td>\n",
              "      <td>37.583769</td>\n",
              "      <td>37.583769</td>\n",
              "    </tr>\n",
              "    <tr>\n",
              "      <th>max</th>\n",
              "      <td>NaN</td>\n",
              "      <td>1080.000000</td>\n",
              "      <td>70.000000</td>\n",
              "      <td>26.260000</td>\n",
              "      <td>63.360000</td>\n",
              "      <td>29.856667</td>\n",
              "      <td>56.026667</td>\n",
              "      <td>29.236000</td>\n",
              "      <td>50.163333</td>\n",
              "      <td>26.200000</td>\n",
              "      <td>51.090000</td>\n",
              "      <td>25.795000</td>\n",
              "      <td>96.321667</td>\n",
              "      <td>28.290000</td>\n",
              "      <td>99.900000</td>\n",
              "      <td>26.000000</td>\n",
              "      <td>51.400000</td>\n",
              "      <td>27.230000</td>\n",
              "      <td>58.780000</td>\n",
              "      <td>24.500000</td>\n",
              "      <td>53.326667</td>\n",
              "      <td>26.100000</td>\n",
              "      <td>772.300000</td>\n",
              "      <td>100.000000</td>\n",
              "      <td>14.000000</td>\n",
              "      <td>66.000000</td>\n",
              "      <td>15.500000</td>\n",
              "      <td>49.996530</td>\n",
              "      <td>49.996530</td>\n",
              "    </tr>\n",
              "  </tbody>\n",
              "</table>\n",
              "</div>"
            ],
            "text/plain": [
              "                  timestamp  ...  random_variable_2\n",
              "count                 19735  ...       19735.000000\n",
              "unique                19735  ...                NaN\n",
              "top     2016-02-12 08:50:00  ...                NaN\n",
              "freq                      1  ...                NaN\n",
              "mean                    NaN  ...          24.988033\n",
              "std                     NaN  ...          14.496634\n",
              "min                     NaN  ...           0.005322\n",
              "25%                     NaN  ...          12.497889\n",
              "50%                     NaN  ...          24.897653\n",
              "75%                     NaN  ...          37.583769\n",
              "max                     NaN  ...          49.996530\n",
              "\n",
              "[11 rows x 29 columns]"
            ]
          },
          "metadata": {
            "tags": []
          },
          "execution_count": 8
        }
      ]
    },
    {
      "cell_type": "code",
      "metadata": {
        "id": "jOU4FOk7UmWP",
        "colab_type": "code",
        "colab": {}
      },
      "source": [
        "simple_linear_reg_energy_data=energy_data[['temperature_kitchen', 'appliances_energy']].sample(15, random_state=2)"
      ],
      "execution_count": 9,
      "outputs": []
    },
    {
      "cell_type": "code",
      "metadata": {
        "id": "Xp3ry8rtXq7-",
        "colab_type": "code",
        "colab": {
          "base_uri": "https://localhost:8080/",
          "height": 298
        },
        "outputId": "d117ac49-cfab-42f7-8a50-6cde7e38c855"
      },
      "source": [
        "sns.regplot(x=\"temperature_kitchen\", y=\"appliances_energy\", data=simple_linear_reg_energy_data)"
      ],
      "execution_count": 10,
      "outputs": [
        {
          "output_type": "execute_result",
          "data": {
            "text/plain": [
              "<matplotlib.axes._subplots.AxesSubplot at 0x7f19e36465c0>"
            ]
          },
          "metadata": {
            "tags": []
          },
          "execution_count": 10
        },
        {
          "output_type": "display_data",
          "data": {
            "image/png": "[encoded data removed]",
            "text/plain": [
              "<Figure size 432x288 with 1 Axes>"
            ]
          },
          "metadata": {
            "tags": [],
            "needs_background": "light"
          }
        }
      ]
    },
    {
      "cell_type": "markdown",
      "metadata": {
        "id": "u-58ktpaUZ9x",
        "colab_type": "text"
      },
      "source": [
        "<h1>The Models</h1>"
      ]
    },
    {
      "cell_type": "code",
      "metadata": {
        "id": "8XTLwXVm6un_",
        "colab_type": "code",
        "colab": {}
      },
      "source": [
        "#removing the timestamp(date) and lights_energy(ligths)\n",
        "energy_data.drop(columns=[ 'timestamp' , 'lights_energy' ], inplace = True)"
      ],
      "execution_count": 11,
      "outputs": []
    },
    {
      "cell_type": "code",
      "metadata": {
        "id": "IRLvesRi7JMM",
        "colab_type": "code",
        "colab": {
          "base_uri": "https://localhost:8080/",
          "height": 226
        },
        "outputId": "bb803f54-4904-49b5-9d38-682966fffe06"
      },
      "source": [
        "energy_data.head()"
      ],
      "execution_count": 12,
      "outputs": [
        {
          "output_type": "execute_result",
          "data": {
            "text/html": [
              "<div>\n",
              "<style scoped>\n",
              "    .dataframe tbody tr th:only-of-type {\n",
              "        vertical-align: middle;\n",
              "    }\n",
              "\n",
              "    .dataframe tbody tr th {\n",
              "        vertical-align: top;\n",
              "    }\n",
              "\n",
              "    .dataframe thead th {\n",
              "        text-align: right;\n",
              "    }\n",
              "</style>\n",
              "<table border=\"1\" class=\"dataframe\">\n",
              "  <thead>\n",
              "    <tr style=\"text-align: right;\">\n",
              "      <th></th>\n",
              "      <th>appliances_energy</th>\n",
              "      <th>temperature_kitchen</th>\n",
              "      <th>humidity_kitchen</th>\n",
              "      <th>temperature_livingroom</th>\n",
              "      <th>humidity_livingroom</th>\n",
              "      <th>temperature_lundary</th>\n",
              "      <th>humidity_lundary</th>\n",
              "      <th>temperature_office</th>\n",
              "      <th>humidity_office</th>\n",
              "      <th>temperature_bathroom</th>\n",
              "      <th>humidity_bathroom</th>\n",
              "      <th>temperature_north</th>\n",
              "      <th>humidity_north</th>\n",
              "      <th>temperature_ironingroom</th>\n",
              "      <th>humidity_ironingroom</th>\n",
              "      <th>temperature_teenager</th>\n",
              "      <th>humidity_teenager</th>\n",
              "      <th>temperature_parent</th>\n",
              "      <th>humidity_parent</th>\n",
              "      <th>temperature_out</th>\n",
              "      <th>pressure_mm_hg</th>\n",
              "      <th>humidity_outside</th>\n",
              "      <th>windspeed</th>\n",
              "      <th>visibility</th>\n",
              "      <th>tdewpoint</th>\n",
              "      <th>random_variable_1</th>\n",
              "      <th>random_variable_2</th>\n",
              "    </tr>\n",
              "  </thead>\n",
              "  <tbody>\n",
              "    <tr>\n",
              "      <th>0</th>\n",
              "      <td>60</td>\n",
              "      <td>19.89</td>\n",
              "      <td>47.596667</td>\n",
              "      <td>19.2</td>\n",
              "      <td>44.790000</td>\n",
              "      <td>19.79</td>\n",
              "      <td>44.730000</td>\n",
              "      <td>19.000000</td>\n",
              "      <td>45.566667</td>\n",
              "      <td>17.166667</td>\n",
              "      <td>55.20</td>\n",
              "      <td>7.026667</td>\n",
              "      <td>84.256667</td>\n",
              "      <td>17.200000</td>\n",
              "      <td>41.626667</td>\n",
              "      <td>18.2</td>\n",
              "      <td>48.900000</td>\n",
              "      <td>17.033333</td>\n",
              "      <td>45.53</td>\n",
              "      <td>6.600000</td>\n",
              "      <td>733.5</td>\n",
              "      <td>92.0</td>\n",
              "      <td>7.000000</td>\n",
              "      <td>63.000000</td>\n",
              "      <td>5.3</td>\n",
              "      <td>13.275433</td>\n",
              "      <td>13.275433</td>\n",
              "    </tr>\n",
              "    <tr>\n",
              "      <th>1</th>\n",
              "      <td>60</td>\n",
              "      <td>19.89</td>\n",
              "      <td>46.693333</td>\n",
              "      <td>19.2</td>\n",
              "      <td>44.722500</td>\n",
              "      <td>19.79</td>\n",
              "      <td>44.790000</td>\n",
              "      <td>19.000000</td>\n",
              "      <td>45.992500</td>\n",
              "      <td>17.166667</td>\n",
              "      <td>55.20</td>\n",
              "      <td>6.833333</td>\n",
              "      <td>84.063333</td>\n",
              "      <td>17.200000</td>\n",
              "      <td>41.560000</td>\n",
              "      <td>18.2</td>\n",
              "      <td>48.863333</td>\n",
              "      <td>17.066667</td>\n",
              "      <td>45.56</td>\n",
              "      <td>6.483333</td>\n",
              "      <td>733.6</td>\n",
              "      <td>92.0</td>\n",
              "      <td>6.666667</td>\n",
              "      <td>59.166667</td>\n",
              "      <td>5.2</td>\n",
              "      <td>18.606195</td>\n",
              "      <td>18.606195</td>\n",
              "    </tr>\n",
              "    <tr>\n",
              "      <th>2</th>\n",
              "      <td>50</td>\n",
              "      <td>19.89</td>\n",
              "      <td>46.300000</td>\n",
              "      <td>19.2</td>\n",
              "      <td>44.626667</td>\n",
              "      <td>19.79</td>\n",
              "      <td>44.933333</td>\n",
              "      <td>18.926667</td>\n",
              "      <td>45.890000</td>\n",
              "      <td>17.166667</td>\n",
              "      <td>55.09</td>\n",
              "      <td>6.560000</td>\n",
              "      <td>83.156667</td>\n",
              "      <td>17.200000</td>\n",
              "      <td>41.433333</td>\n",
              "      <td>18.2</td>\n",
              "      <td>48.730000</td>\n",
              "      <td>17.000000</td>\n",
              "      <td>45.50</td>\n",
              "      <td>6.366667</td>\n",
              "      <td>733.7</td>\n",
              "      <td>92.0</td>\n",
              "      <td>6.333333</td>\n",
              "      <td>55.333333</td>\n",
              "      <td>5.1</td>\n",
              "      <td>28.642668</td>\n",
              "      <td>28.642668</td>\n",
              "    </tr>\n",
              "    <tr>\n",
              "      <th>3</th>\n",
              "      <td>50</td>\n",
              "      <td>19.89</td>\n",
              "      <td>46.066667</td>\n",
              "      <td>19.2</td>\n",
              "      <td>44.590000</td>\n",
              "      <td>19.79</td>\n",
              "      <td>45.000000</td>\n",
              "      <td>18.890000</td>\n",
              "      <td>45.723333</td>\n",
              "      <td>17.166667</td>\n",
              "      <td>55.09</td>\n",
              "      <td>6.433333</td>\n",
              "      <td>83.423333</td>\n",
              "      <td>17.133333</td>\n",
              "      <td>41.290000</td>\n",
              "      <td>18.1</td>\n",
              "      <td>48.590000</td>\n",
              "      <td>17.000000</td>\n",
              "      <td>45.40</td>\n",
              "      <td>6.250000</td>\n",
              "      <td>733.8</td>\n",
              "      <td>92.0</td>\n",
              "      <td>6.000000</td>\n",
              "      <td>51.500000</td>\n",
              "      <td>5.0</td>\n",
              "      <td>45.410389</td>\n",
              "      <td>45.410389</td>\n",
              "    </tr>\n",
              "    <tr>\n",
              "      <th>4</th>\n",
              "      <td>60</td>\n",
              "      <td>19.89</td>\n",
              "      <td>46.333333</td>\n",
              "      <td>19.2</td>\n",
              "      <td>44.530000</td>\n",
              "      <td>19.79</td>\n",
              "      <td>45.000000</td>\n",
              "      <td>18.890000</td>\n",
              "      <td>45.530000</td>\n",
              "      <td>17.200000</td>\n",
              "      <td>55.09</td>\n",
              "      <td>6.366667</td>\n",
              "      <td>84.893333</td>\n",
              "      <td>17.200000</td>\n",
              "      <td>41.230000</td>\n",
              "      <td>18.1</td>\n",
              "      <td>48.590000</td>\n",
              "      <td>17.000000</td>\n",
              "      <td>45.40</td>\n",
              "      <td>6.133333</td>\n",
              "      <td>733.9</td>\n",
              "      <td>92.0</td>\n",
              "      <td>5.666667</td>\n",
              "      <td>47.666667</td>\n",
              "      <td>4.9</td>\n",
              "      <td>10.084097</td>\n",
              "      <td>10.084097</td>\n",
              "    </tr>\n",
              "  </tbody>\n",
              "</table>\n",
              "</div>"
            ],
            "text/plain": [
              "   appliances_energy  temperature_kitchen  ...  random_variable_1  random_variable_2\n",
              "0                 60                19.89  ...          13.275433          13.275433\n",
              "1                 60                19.89  ...          18.606195          18.606195\n",
              "2                 50                19.89  ...          28.642668          28.642668\n",
              "3                 50                19.89  ...          45.410389          45.410389\n",
              "4                 60                19.89  ...          10.084097          10.084097\n",
              "\n",
              "[5 rows x 27 columns]"
            ]
          },
          "metadata": {
            "tags": []
          },
          "execution_count": 12
        }
      ]
    },
    {
      "cell_type": "code",
      "metadata": {
        "id": "LaoFwXveoi1D",
        "colab_type": "code",
        "colab": {}
      },
      "source": [
        "#normalizing the data\n",
        "from sklearn.preprocessing import MinMaxScaler\n",
        "scaler = MinMaxScaler()\n",
        "normalised_energy_data = pd.DataFrame(scaler.fit_transform(energy_data), columns=energy_data.columns)"
      ],
      "execution_count": 13,
      "outputs": []
    },
    {
      "cell_type": "code",
      "metadata": {
        "id": "QwJ9ZBYjqB2C",
        "colab_type": "code",
        "colab": {}
      },
      "source": [
        "features_energy_data = normalised_energy_data.drop(columns=['appliances_energy'])\n",
        "energy_target = normalised_energy_data[ 'appliances_energy' ]"
      ],
      "execution_count": 14,
      "outputs": []
    },
    {
      "cell_type": "code",
      "metadata": {
        "id": "ThO__y_tWFlH",
        "colab_type": "code",
        "colab": {}
      },
      "source": [
        "from sklearn.model_selection import train_test_split\n",
        "x_train, x_test, y_train, y_test = train_test_split(features_energy_data, energy_target,\n",
        "test_size= 0.3 , random_state= 42 )"
      ],
      "execution_count": 15,
      "outputs": []
    },
    {
      "cell_type": "code",
      "metadata": {
        "id": "G6G3hBcx9mWZ",
        "colab_type": "code",
        "colab": {
          "base_uri": "https://localhost:8080/",
          "height": 54
        },
        "outputId": "4970c947-9e2a-4b7f-cdf8-41bbe5339172"
      },
      "source": [
        "print(f'shape of training set is {x_train.shape}')\n",
        "print(f'shape of testing set is {x_test.shape}')"
      ],
      "execution_count": 16,
      "outputs": [
        {
          "output_type": "stream",
          "text": [
            "shape of training set is (13814, 26)\n",
            "shape of testing set is (5921, 26)\n"
          ],
          "name": "stdout"
        }
      ]
    },
    {
      "cell_type": "markdown",
      "metadata": {
        "id": "_dJhCTCvUZ7b",
        "colab_type": "text"
      },
      "source": [
        "<h2>Multiple Linear Regression</h2>"
      ]
    },
    {
      "cell_type": "code",
      "metadata": {
        "id": "ZOm2Rs1i8XQs",
        "colab_type": "code",
        "colab": {}
      },
      "source": [
        "from sklearn.linear_model import LinearRegression"
      ],
      "execution_count": 17,
      "outputs": []
    },
    {
      "cell_type": "code",
      "metadata": {
        "id": "xk6HcyoxXRE2",
        "colab_type": "code",
        "colab": {}
      },
      "source": [
        "linear_model = LinearRegression()\n",
        "#fit the model to the training dataset\n",
        "linear_model.fit(x_train, y_train)\n",
        "#obtain predictions\n",
        "predicted_values = linear_model.predict(x_test)"
      ],
      "execution_count": 18,
      "outputs": []
    },
    {
      "cell_type": "code",
      "metadata": {
        "id": "OIid6OSjXqvJ",
        "colab_type": "code",
        "colab": {
          "base_uri": "https://localhost:8080/",
          "height": 35
        },
        "outputId": "8b4d43f1-cbf6-422a-cd8a-621db2e22b0b"
      },
      "source": [
        "#calculating the mean absolute error\n",
        "from sklearn.metrics import mean_absolute_error\n",
        "mae = mean_absolute_error(y_test, predicted_values)\n",
        "round(mae, 2 )"
      ],
      "execution_count": 19,
      "outputs": [
        {
          "output_type": "execute_result",
          "data": {
            "text/plain": [
              "0.05"
            ]
          },
          "metadata": {
            "tags": []
          },
          "execution_count": 19
        }
      ]
    },
    {
      "cell_type": "code",
      "metadata": {
        "id": "i_lD_AafX-Qp",
        "colab_type": "code",
        "colab": {
          "base_uri": "https://localhost:8080/",
          "height": 35
        },
        "outputId": "840c63e1-b748-409f-ed09-d5e5b15cd805"
      },
      "source": [
        "#calculating the Residual sum of square\n",
        "rss = np.sum(np.square(y_test - predicted_values))\n",
        "round(rss, 2 )"
      ],
      "execution_count": 20,
      "outputs": [
        {
          "output_type": "execute_result",
          "data": {
            "text/plain": [
              "45.35"
            ]
          },
          "metadata": {
            "tags": []
          },
          "execution_count": 20
        }
      ]
    },
    {
      "cell_type": "code",
      "metadata": {
        "id": "GQnLoZwuYE2E",
        "colab_type": "code",
        "colab": {
          "base_uri": "https://localhost:8080/",
          "height": 35
        },
        "outputId": "2f3c300b-d3c8-47df-dba2-7ca625cccfe3"
      },
      "source": [
        "#calculating the root mean square error\n",
        "from sklearn.metrics import mean_squared_error\n",
        "rmse = np.sqrt(mean_squared_error(y_test, predicted_values))\n",
        "round(rmse, 3 )"
      ],
      "execution_count": 21,
      "outputs": [
        {
          "output_type": "execute_result",
          "data": {
            "text/plain": [
              "0.088"
            ]
          },
          "metadata": {
            "tags": []
          },
          "execution_count": 21
        }
      ]
    },
    {
      "cell_type": "code",
      "metadata": {
        "id": "YH5RziYkYMJ4",
        "colab_type": "code",
        "colab": {
          "base_uri": "https://localhost:8080/",
          "height": 35
        },
        "outputId": "b570ccdb-0888-445b-a087-cb536bd2804e"
      },
      "source": [
        "#calculating the coefficient of determination\n",
        "from sklearn.metrics import r2_score\n",
        "r2_score = r2_score(y_test, predicted_values)\n",
        "round(r2_score, 2 )"
      ],
      "execution_count": 22,
      "outputs": [
        {
          "output_type": "execute_result",
          "data": {
            "text/plain": [
              "0.15"
            ]
          },
          "metadata": {
            "tags": []
          },
          "execution_count": 22
        }
      ]
    },
    {
      "cell_type": "markdown",
      "metadata": {
        "id": "OHKUsyohVUqx",
        "colab_type": "text"
      },
      "source": [
        "<h2>Ridge Model</h2>"
      ]
    },
    {
      "cell_type": "code",
      "metadata": {
        "id": "ME_YTgG1YQgE",
        "colab_type": "code",
        "colab": {
          "base_uri": "https://localhost:8080/",
          "height": 54
        },
        "outputId": "ac84d9c8-956b-4d8d-a618-963bc31947f5"
      },
      "source": [
        "from sklearn.linear_model import Ridge\n",
        "ridge_reg = Ridge(alpha= 0.5 )\n",
        "ridge_reg.fit(x_train, y_train)"
      ],
      "execution_count": 24,
      "outputs": [
        {
          "output_type": "execute_result",
          "data": {
            "text/plain": [
              "Ridge(alpha=0.5, copy_X=True, fit_intercept=True, max_iter=None,\n",
              "      normalize=False, random_state=None, solver='auto', tol=0.001)"
            ]
          },
          "metadata": {
            "tags": []
          },
          "execution_count": 24
        }
      ]
    },
    {
      "cell_type": "markdown",
      "metadata": {
        "id": "75lgHmSQVfCs",
        "colab_type": "text"
      },
      "source": [
        "<h2>Lasso Model</h2>"
      ]
    },
    {
      "cell_type": "code",
      "metadata": {
        "id": "_y4ECifN-x4-",
        "colab_type": "code",
        "colab": {}
      },
      "source": [
        "from sklearn.linear_model import Lasso\n",
        "lasso_reg = Lasso(alpha= 0.001 )\n",
        "lasso_reg.fit(x_train, y_train)\n",
        "\n",
        "predicted_values1 = lasso_reg.predict(x_test)"
      ],
      "execution_count": 25,
      "outputs": []
    },
    {
      "cell_type": "code",
      "metadata": {
        "id": "48Z-F__SN0Nh",
        "colab_type": "code",
        "colab": {
          "base_uri": "https://localhost:8080/",
          "height": 35
        },
        "outputId": "348076d2-917a-4cf0-f3c2-298f2ceca529"
      },
      "source": [
        "#calculating the root mean square error\n",
        "rmse = np.sqrt(mean_squared_error(y_test, predicted_values1))\n",
        "round(rmse, 3 )"
      ],
      "execution_count": 26,
      "outputs": [
        {
          "output_type": "execute_result",
          "data": {
            "text/plain": [
              "0.094"
            ]
          },
          "metadata": {
            "tags": []
          },
          "execution_count": 26
        }
      ]
    },
    {
      "cell_type": "code",
      "metadata": {
        "id": "tI8qEe_a-8G9",
        "colab_type": "code",
        "colab": {}
      },
      "source": [
        "#comparing the effects of regularisation\n",
        "def get_weights_df(model, feat, col_name) :\n",
        "#this function returns the weight of every feature\n",
        "    weights = pd.Series(model.coef_, feat.columns).sort_values()\n",
        "    weights_df = pd.DataFrame(weights).reset_index()\n",
        "    weights_df.columns = [ 'Features' , col_name]\n",
        "    weights_df[col_name].round( 3 )\n",
        "    return weights_df\n",
        "linear_model_weights = get_weights_df(linear_model, x_train, 'Linear_Model_Weight' )\n",
        "ridge_weights_df = get_weights_df(ridge_reg, x_train, 'Ridge_Weight' )\n",
        "lasso_weights_df = get_weights_df(lasso_reg, x_train, 'Lasso_weight' )\n",
        "final_weights = pd.merge(linear_model_weights, ridge_weights_df, on= 'Features' )\n",
        "final_weights = pd.merge(final_weights, lasso_weights_df, on= 'Features' )"
      ],
      "execution_count": 28,
      "outputs": []
    },
    {
      "cell_type": "code",
      "metadata": {
        "id": "UkwnCMYT_DwU",
        "colab_type": "code",
        "colab": {
          "base_uri": "https://localhost:8080/",
          "height": 865
        },
        "outputId": "11344b71-1a05-4462-ceee-e79251516a2c"
      },
      "source": [
        "final_weights"
      ],
      "execution_count": 29,
      "outputs": [
        {
          "output_type": "execute_result",
          "data": {
            "text/html": [
              "<div>\n",
              "<style scoped>\n",
              "    .dataframe tbody tr th:only-of-type {\n",
              "        vertical-align: middle;\n",
              "    }\n",
              "\n",
              "    .dataframe tbody tr th {\n",
              "        vertical-align: top;\n",
              "    }\n",
              "\n",
              "    .dataframe thead th {\n",
              "        text-align: right;\n",
              "    }\n",
              "</style>\n",
              "<table border=\"1\" class=\"dataframe\">\n",
              "  <thead>\n",
              "    <tr style=\"text-align: right;\">\n",
              "      <th></th>\n",
              "      <th>Features</th>\n",
              "      <th>Linear_Model_Weight</th>\n",
              "      <th>Ridge_Weight</th>\n",
              "      <th>Lasso_weight</th>\n",
              "    </tr>\n",
              "  </thead>\n",
              "  <tbody>\n",
              "    <tr>\n",
              "      <th>0</th>\n",
              "      <td>humidity_livingroom</td>\n",
              "      <td>-0.456698</td>\n",
              "      <td>-0.401134</td>\n",
              "      <td>-0.000000</td>\n",
              "    </tr>\n",
              "    <tr>\n",
              "      <th>1</th>\n",
              "      <td>temperature_out</td>\n",
              "      <td>-0.321860</td>\n",
              "      <td>-0.250765</td>\n",
              "      <td>0.000000</td>\n",
              "    </tr>\n",
              "    <tr>\n",
              "      <th>2</th>\n",
              "      <td>temperature_livingroom</td>\n",
              "      <td>-0.236178</td>\n",
              "      <td>-0.193880</td>\n",
              "      <td>0.000000</td>\n",
              "    </tr>\n",
              "    <tr>\n",
              "      <th>3</th>\n",
              "      <td>temperature_parent</td>\n",
              "      <td>-0.189941</td>\n",
              "      <td>-0.188584</td>\n",
              "      <td>-0.000000</td>\n",
              "    </tr>\n",
              "    <tr>\n",
              "      <th>4</th>\n",
              "      <td>humidity_teenager</td>\n",
              "      <td>-0.157595</td>\n",
              "      <td>-0.156596</td>\n",
              "      <td>-0.000110</td>\n",
              "    </tr>\n",
              "    <tr>\n",
              "      <th>5</th>\n",
              "      <td>humidity_outside</td>\n",
              "      <td>-0.077671</td>\n",
              "      <td>-0.050541</td>\n",
              "      <td>-0.049557</td>\n",
              "    </tr>\n",
              "    <tr>\n",
              "      <th>6</th>\n",
              "      <td>humidity_ironingroom</td>\n",
              "      <td>-0.044614</td>\n",
              "      <td>-0.046291</td>\n",
              "      <td>-0.000000</td>\n",
              "    </tr>\n",
              "    <tr>\n",
              "      <th>7</th>\n",
              "      <td>humidity_parent</td>\n",
              "      <td>-0.039800</td>\n",
              "      <td>-0.041701</td>\n",
              "      <td>-0.000000</td>\n",
              "    </tr>\n",
              "    <tr>\n",
              "      <th>8</th>\n",
              "      <td>temperature_bathroom</td>\n",
              "      <td>-0.015657</td>\n",
              "      <td>-0.020727</td>\n",
              "      <td>-0.000000</td>\n",
              "    </tr>\n",
              "    <tr>\n",
              "      <th>9</th>\n",
              "      <td>temperature_kitchen</td>\n",
              "      <td>-0.003281</td>\n",
              "      <td>-0.021549</td>\n",
              "      <td>0.000000</td>\n",
              "    </tr>\n",
              "    <tr>\n",
              "      <th>10</th>\n",
              "      <td>random_variable_1</td>\n",
              "      <td>0.000770</td>\n",
              "      <td>0.000743</td>\n",
              "      <td>-0.000000</td>\n",
              "    </tr>\n",
              "    <tr>\n",
              "      <th>11</th>\n",
              "      <td>random_variable_2</td>\n",
              "      <td>0.000770</td>\n",
              "      <td>0.000743</td>\n",
              "      <td>-0.000000</td>\n",
              "    </tr>\n",
              "    <tr>\n",
              "      <th>12</th>\n",
              "      <td>pressure_mm_hg</td>\n",
              "      <td>0.006839</td>\n",
              "      <td>0.006516</td>\n",
              "      <td>-0.000000</td>\n",
              "    </tr>\n",
              "    <tr>\n",
              "      <th>13</th>\n",
              "      <td>temperature_ironingroom</td>\n",
              "      <td>0.010319</td>\n",
              "      <td>0.010021</td>\n",
              "      <td>-0.000000</td>\n",
              "    </tr>\n",
              "    <tr>\n",
              "      <th>14</th>\n",
              "      <td>visibility</td>\n",
              "      <td>0.012307</td>\n",
              "      <td>0.012032</td>\n",
              "      <td>0.000000</td>\n",
              "    </tr>\n",
              "    <tr>\n",
              "      <th>15</th>\n",
              "      <td>humidity_bathroom</td>\n",
              "      <td>0.016006</td>\n",
              "      <td>0.016176</td>\n",
              "      <td>0.000000</td>\n",
              "    </tr>\n",
              "    <tr>\n",
              "      <th>16</th>\n",
              "      <td>humidity_office</td>\n",
              "      <td>0.026386</td>\n",
              "      <td>0.024168</td>\n",
              "      <td>0.000000</td>\n",
              "    </tr>\n",
              "    <tr>\n",
              "      <th>17</th>\n",
              "      <td>temperature_office</td>\n",
              "      <td>0.028981</td>\n",
              "      <td>0.027006</td>\n",
              "      <td>-0.000000</td>\n",
              "    </tr>\n",
              "    <tr>\n",
              "      <th>18</th>\n",
              "      <td>windspeed</td>\n",
              "      <td>0.029183</td>\n",
              "      <td>0.030463</td>\n",
              "      <td>0.002912</td>\n",
              "    </tr>\n",
              "    <tr>\n",
              "      <th>19</th>\n",
              "      <td>humidity_north</td>\n",
              "      <td>0.038049</td>\n",
              "      <td>0.035023</td>\n",
              "      <td>-0.000000</td>\n",
              "    </tr>\n",
              "    <tr>\n",
              "      <th>20</th>\n",
              "      <td>humidity_lundary</td>\n",
              "      <td>0.096048</td>\n",
              "      <td>0.094976</td>\n",
              "      <td>0.000000</td>\n",
              "    </tr>\n",
              "    <tr>\n",
              "      <th>21</th>\n",
              "      <td>temperature_teenager</td>\n",
              "      <td>0.101995</td>\n",
              "      <td>0.100754</td>\n",
              "      <td>0.000000</td>\n",
              "    </tr>\n",
              "    <tr>\n",
              "      <th>22</th>\n",
              "      <td>tdewpoint</td>\n",
              "      <td>0.117758</td>\n",
              "      <td>0.076668</td>\n",
              "      <td>0.000000</td>\n",
              "    </tr>\n",
              "    <tr>\n",
              "      <th>23</th>\n",
              "      <td>temperature_north</td>\n",
              "      <td>0.236425</td>\n",
              "      <td>0.213316</td>\n",
              "      <td>0.000000</td>\n",
              "    </tr>\n",
              "    <tr>\n",
              "      <th>24</th>\n",
              "      <td>temperature_lundary</td>\n",
              "      <td>0.290627</td>\n",
              "      <td>0.287408</td>\n",
              "      <td>0.000000</td>\n",
              "    </tr>\n",
              "    <tr>\n",
              "      <th>25</th>\n",
              "      <td>humidity_kitchen</td>\n",
              "      <td>0.553547</td>\n",
              "      <td>0.511932</td>\n",
              "      <td>0.017880</td>\n",
              "    </tr>\n",
              "  </tbody>\n",
              "</table>\n",
              "</div>"
            ],
            "text/plain": [
              "                   Features  Linear_Model_Weight  Ridge_Weight  Lasso_weight\n",
              "0       humidity_livingroom            -0.456698     -0.401134     -0.000000\n",
              "1           temperature_out            -0.321860     -0.250765      0.000000\n",
              "2    temperature_livingroom            -0.236178     -0.193880      0.000000\n",
              "3        temperature_parent            -0.189941     -0.188584     -0.000000\n",
              "4         humidity_teenager            -0.157595     -0.156596     -0.000110\n",
              "5          humidity_outside            -0.077671     -0.050541     -0.049557\n",
              "6      humidity_ironingroom            -0.044614     -0.046291     -0.000000\n",
              "7           humidity_parent            -0.039800     -0.041701     -0.000000\n",
              "8      temperature_bathroom            -0.015657     -0.020727     -0.000000\n",
              "9       temperature_kitchen            -0.003281     -0.021549      0.000000\n",
              "10        random_variable_1             0.000770      0.000743     -0.000000\n",
              "11        random_variable_2             0.000770      0.000743     -0.000000\n",
              "12           pressure_mm_hg             0.006839      0.006516     -0.000000\n",
              "13  temperature_ironingroom             0.010319      0.010021     -0.000000\n",
              "14               visibility             0.012307      0.012032      0.000000\n",
              "15        humidity_bathroom             0.016006      0.016176      0.000000\n",
              "16          humidity_office             0.026386      0.024168      0.000000\n",
              "17       temperature_office             0.028981      0.027006     -0.000000\n",
              "18                windspeed             0.029183      0.030463      0.002912\n",
              "19           humidity_north             0.038049      0.035023     -0.000000\n",
              "20         humidity_lundary             0.096048      0.094976      0.000000\n",
              "21     temperature_teenager             0.101995      0.100754      0.000000\n",
              "22                tdewpoint             0.117758      0.076668      0.000000\n",
              "23        temperature_north             0.236425      0.213316      0.000000\n",
              "24      temperature_lundary             0.290627      0.287408      0.000000\n",
              "25         humidity_kitchen             0.553547      0.511932      0.017880"
            ]
          },
          "metadata": {
            "tags": []
          },
          "execution_count": 29
        }
      ]
    },
    {
      "cell_type": "markdown",
      "metadata": {
        "id": "2sDsRQctWVPf",
        "colab_type": "text"
      },
      "source": [
        "**Question 12**"
      ]
    },
    {
      "cell_type": "code",
      "metadata": {
        "id": "so1XQPjQxG2P",
        "colab_type": "code",
        "colab": {
          "base_uri": "https://localhost:8080/",
          "height": 274
        },
        "outputId": "5b16d39a-8b9f-47e3-80dd-b0805d7d87a5"
      },
      "source": [
        "target_column=['temperature_north']\n",
        "predictor=['temperature_livingroom']\n",
        "energy_data[predictor]=energy_data[predictor]/energy_data[predictor].max()\n",
        "energy_data.describe"
      ],
      "execution_count": 30,
      "outputs": [
        {
          "output_type": "execute_result",
          "data": {
            "text/plain": [
              "<bound method NDFrame.describe of        appliances_energy  ...  random_variable_2\n",
              "0                     60  ...          13.275433\n",
              "1                     60  ...          18.606195\n",
              "2                     50  ...          28.642668\n",
              "3                     50  ...          45.410389\n",
              "4                     60  ...          10.084097\n",
              "...                  ...  ...                ...\n",
              "19730                100  ...          43.096812\n",
              "19731                 90  ...          49.282940\n",
              "19732                270  ...          29.199117\n",
              "19733                420  ...           6.322784\n",
              "19734                430  ...          34.118851\n",
              "\n",
              "[19735 rows x 27 columns]>"
            ]
          },
          "metadata": {
            "tags": []
          },
          "execution_count": 30
        }
      ]
    },
    {
      "cell_type": "code",
      "metadata": {
        "id": "Q3QLnMbwEyYc",
        "colab_type": "code",
        "colab": {
          "base_uri": "https://localhost:8080/",
          "height": 54
        },
        "outputId": "62319b87-31c7-4141-8a9f-7666c862594e"
      },
      "source": [
        "X=energy_data[predictor].values\n",
        "Y=energy_data[target_column].values\n",
        "\n",
        "X_train, X_test, Y_train, Y_test = train_test_split(X, Y, test_size=0.30, random_state=42)\n",
        "print(X_train.shape); print(X_test.shape)"
      ],
      "execution_count": 31,
      "outputs": [
        {
          "output_type": "stream",
          "text": [
            "(13814, 1)\n",
            "(5921, 1)\n"
          ],
          "name": "stdout"
        }
      ]
    },
    {
      "cell_type": "code",
      "metadata": {
        "id": "VZuEKLs7IEDF",
        "colab_type": "code",
        "colab": {
          "base_uri": "https://localhost:8080/",
          "height": 35
        },
        "outputId": "33614a1b-5a66-449e-ac7f-9728e5cc63af"
      },
      "source": [
        "lr2=LinearRegression()\n",
        "lr2.fit(X_train, Y_train)"
      ],
      "execution_count": 32,
      "outputs": [
        {
          "output_type": "execute_result",
          "data": {
            "text/plain": [
              "LinearRegression(copy_X=True, fit_intercept=True, n_jobs=None, normalize=False)"
            ]
          },
          "metadata": {
            "tags": []
          },
          "execution_count": 32
        }
      ]
    },
    {
      "cell_type": "code",
      "metadata": {
        "id": "S3r11hlqIPsQ",
        "colab_type": "code",
        "colab": {
          "base_uri": "https://localhost:8080/",
          "height": 54
        },
        "outputId": "e9192b8b-b7d1-4f23-bb44-58086afa14f5"
      },
      "source": [
        "pred_train_lr2 = lr2.predict(X_train)\n",
        "print(np.sqrt(mean_squared_error(Y_train, pred_train_lr2)))\n",
        "\n",
        "pred_test_lr2 = lr2.predict(X_test)\n",
        "print(np.sqrt(mean_squared_error(Y_test, pred_test_lr2)))\n"
      ],
      "execution_count": 33,
      "outputs": [
        {
          "output_type": "stream",
          "text": [
            "3.65053668239136\n",
            "3.630315129680444\n"
          ],
          "name": "stdout"
        }
      ]
    },
    {
      "cell_type": "code",
      "metadata": {
        "id": "GK3f7OSfKv0i",
        "colab_type": "code",
        "colab": {
          "base_uri": "https://localhost:8080/",
          "height": 35
        },
        "outputId": "7c6d718b-699c-46b6-8a4f-69190c3c24c3"
      },
      "source": [
        "from sklearn.metrics import r2_score\n",
        "r2_score = r2_score(Y_test, pred_test_lr2)\n",
        "round(r2_score, 2 )"
      ],
      "execution_count": 35,
      "outputs": [
        {
          "output_type": "execute_result",
          "data": {
            "text/plain": [
              "0.64"
            ]
          },
          "metadata": {
            "tags": []
          },
          "execution_count": 35
        }
      ]
    },
    {
      "cell_type": "code",
      "metadata": {
        "id": "u6UXTqnQYTTZ",
        "colab_type": "code",
        "colab": {}
      },
      "source": [
        ""
      ],
      "execution_count": null,
      "outputs": []
    }
  ]
}