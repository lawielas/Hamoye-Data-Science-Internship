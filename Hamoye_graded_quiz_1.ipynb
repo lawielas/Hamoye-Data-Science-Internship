{
  "nbformat": 4,
  "nbformat_minor": 0,
  "metadata": {
    "colab": {
      "name": "Hamoye graded quiz 1.ipynb",
      "provenance": [],
      "collapsed_sections": [],
      "authorship_tag": "ABX9TyO7mS586IfTyZ7YTNEcT2j9",
      "include_colab_link": true
    },
    "kernelspec": {
      "name": "python3",
      "display_name": "Python 3"
    }
  },
  "cells": [
    {
      "cell_type": "markdown",
      "metadata": {
        "id": "view-in-github",
        "colab_type": "text"
      },
      "source": [
        "<a href=\"https://colab.research.google.com/github/lawielas/Hamoye-Data-Science-Internship/blob/master/Hamoye_graded_quiz_1.ipynb\" target=\"_parent\"><img src=\"https://colab.research.google.com/assets/colab-badge.svg\" alt=\"Open In Colab\"/></a>"
      ]
    },
    {
      "cell_type": "code",
      "metadata": {
        "id": "TgVa-du2KgUA",
        "colab_type": "code",
        "colab": {
          "base_uri": "https://localhost:8080/",
          "height": 35
        },
        "outputId": "0f5f5797-51cb-44b1-a358-c784cbfdb35d"
      },
      "source": [
        "#we append the two lists one by one\n",
        "A = [1,2,3,4,5,6]\n",
        "B = [13, 21, 34]\n",
        "A_B=[]\n",
        "for x in A:\n",
        "  A_B.append(x)\n",
        "for x in B:\n",
        "  A_B.append(x)\n",
        "print(A_B)"
      ],
      "execution_count": 26,
      "outputs": [
        {
          "output_type": "stream",
          "text": [
            "[1, 2, 3, 4, 5, 6, 13, 21, 34]\n"
          ],
          "name": "stdout"
        }
      ]
    },
    {
      "cell_type": "code",
      "metadata": {
        "id": "ovD0w02qMPcP",
        "colab_type": "code",
        "colab": {}
      },
      "source": [
        "#import necessary libraries\n",
        "import pandas as pd\n",
        "import numpy as np\n",
        "import matplotlib.pyplot as plt"
      ],
      "execution_count": 29,
      "outputs": []
    },
    {
      "cell_type": "code",
      "metadata": {
        "id": "AEG-URxAMDJs",
        "colab_type": "code",
        "colab": {
          "base_uri": "https://localhost:8080/",
          "height": 72
        },
        "outputId": "ea83bda6-3b84-4b8d-b292-7937d32dcc58"
      },
      "source": [
        "np.identity(3)"
      ],
      "execution_count": 28,
      "outputs": [
        {
          "output_type": "execute_result",
          "data": {
            "text/plain": [
              "array([[1., 0., 0.],\n",
              "       [0., 1., 0.],\n",
              "       [0., 0., 1.]])"
            ]
          },
          "metadata": {
            "tags": []
          },
          "execution_count": 28
        }
      ]
    },
    {
      "cell_type": "code",
      "metadata": {
        "id": "7r8ZptjICar3",
        "colab_type": "code",
        "colab": {}
      },
      "source": [
        "url='https://raw.githubusercontent.com/WalePhenomenon/climate_change/master/fuel_ferc1.csv'"
      ],
      "execution_count": 2,
      "outputs": []
    },
    {
      "cell_type": "code",
      "metadata": {
        "id": "7TEjzjdHCjpz",
        "colab_type": "code",
        "colab": {}
      },
      "source": [
        "energy_data= pd.read_csv(url, error_bad_lines=False)"
      ],
      "execution_count": 3,
      "outputs": []
    },
    {
      "cell_type": "code",
      "metadata": {
        "id": "qCl9IobxCl_6",
        "colab_type": "code",
        "colab": {
          "base_uri": "https://localhost:8080/",
          "height": 226
        },
        "outputId": "a333a997-4e09-47e0-b97e-7a87aa163ee1"
      },
      "source": [
        "energy_data.head()"
      ],
      "execution_count": 4,
      "outputs": [
        {
          "output_type": "execute_result",
          "data": {
            "text/html": [
              "<div>\n",
              "<style scoped>\n",
              "    .dataframe tbody tr th:only-of-type {\n",
              "        vertical-align: middle;\n",
              "    }\n",
              "\n",
              "    .dataframe tbody tr th {\n",
              "        vertical-align: top;\n",
              "    }\n",
              "\n",
              "    .dataframe thead th {\n",
              "        text-align: right;\n",
              "    }\n",
              "</style>\n",
              "<table border=\"1\" class=\"dataframe\">\n",
              "  <thead>\n",
              "    <tr style=\"text-align: right;\">\n",
              "      <th></th>\n",
              "      <th>record_id</th>\n",
              "      <th>utility_id_ferc1</th>\n",
              "      <th>report_year</th>\n",
              "      <th>plant_name_ferc1</th>\n",
              "      <th>fuel_type_code_pudl</th>\n",
              "      <th>fuel_unit</th>\n",
              "      <th>fuel_qty_burned</th>\n",
              "      <th>fuel_mmbtu_per_unit</th>\n",
              "      <th>fuel_cost_per_unit_burned</th>\n",
              "      <th>fuel_cost_per_unit_delivered</th>\n",
              "      <th>fuel_cost_per_mmbtu</th>\n",
              "    </tr>\n",
              "  </thead>\n",
              "  <tbody>\n",
              "    <tr>\n",
              "      <th>0</th>\n",
              "      <td>f1_fuel_1994_12_1_0_7</td>\n",
              "      <td>1</td>\n",
              "      <td>1994</td>\n",
              "      <td>rockport</td>\n",
              "      <td>coal</td>\n",
              "      <td>ton</td>\n",
              "      <td>5377489.0</td>\n",
              "      <td>16.590</td>\n",
              "      <td>18.59</td>\n",
              "      <td>18.53</td>\n",
              "      <td>1.121</td>\n",
              "    </tr>\n",
              "    <tr>\n",
              "      <th>1</th>\n",
              "      <td>f1_fuel_1994_12_1_0_10</td>\n",
              "      <td>1</td>\n",
              "      <td>1994</td>\n",
              "      <td>rockport total plant</td>\n",
              "      <td>coal</td>\n",
              "      <td>ton</td>\n",
              "      <td>10486945.0</td>\n",
              "      <td>16.592</td>\n",
              "      <td>18.58</td>\n",
              "      <td>18.53</td>\n",
              "      <td>1.120</td>\n",
              "    </tr>\n",
              "    <tr>\n",
              "      <th>2</th>\n",
              "      <td>f1_fuel_1994_12_2_0_1</td>\n",
              "      <td>2</td>\n",
              "      <td>1994</td>\n",
              "      <td>gorgas</td>\n",
              "      <td>coal</td>\n",
              "      <td>ton</td>\n",
              "      <td>2978683.0</td>\n",
              "      <td>24.130</td>\n",
              "      <td>39.72</td>\n",
              "      <td>38.12</td>\n",
              "      <td>1.650</td>\n",
              "    </tr>\n",
              "    <tr>\n",
              "      <th>3</th>\n",
              "      <td>f1_fuel_1994_12_2_0_7</td>\n",
              "      <td>2</td>\n",
              "      <td>1994</td>\n",
              "      <td>barry</td>\n",
              "      <td>coal</td>\n",
              "      <td>ton</td>\n",
              "      <td>3739484.0</td>\n",
              "      <td>23.950</td>\n",
              "      <td>47.21</td>\n",
              "      <td>45.99</td>\n",
              "      <td>1.970</td>\n",
              "    </tr>\n",
              "    <tr>\n",
              "      <th>4</th>\n",
              "      <td>f1_fuel_1994_12_2_0_10</td>\n",
              "      <td>2</td>\n",
              "      <td>1994</td>\n",
              "      <td>chickasaw</td>\n",
              "      <td>gas</td>\n",
              "      <td>mcf</td>\n",
              "      <td>40533.0</td>\n",
              "      <td>1.000</td>\n",
              "      <td>2.77</td>\n",
              "      <td>2.77</td>\n",
              "      <td>2.570</td>\n",
              "    </tr>\n",
              "  </tbody>\n",
              "</table>\n",
              "</div>"
            ],
            "text/plain": [
              "                record_id  ...  fuel_cost_per_mmbtu\n",
              "0   f1_fuel_1994_12_1_0_7  ...                1.121\n",
              "1  f1_fuel_1994_12_1_0_10  ...                1.120\n",
              "2   f1_fuel_1994_12_2_0_1  ...                1.650\n",
              "3   f1_fuel_1994_12_2_0_7  ...                1.970\n",
              "4  f1_fuel_1994_12_2_0_10  ...                2.570\n",
              "\n",
              "[5 rows x 11 columns]"
            ]
          },
          "metadata": {
            "tags": []
          },
          "execution_count": 4
        }
      ]
    },
    {
      "cell_type": "markdown",
      "metadata": {
        "id": "TjIAo7_aOeh9",
        "colab_type": "text"
      },
      "source": [
        "to get the 75% and standard deviation of energy per unit"
      ]
    },
    {
      "cell_type": "code",
      "metadata": {
        "id": "HHCQMgB-M2jz",
        "colab_type": "code",
        "colab": {
          "base_uri": "https://localhost:8080/",
          "height": 414
        },
        "outputId": "ea8f991c-3eb6-4d8f-b19f-902a1596a871"
      },
      "source": [
        "energy_data.describe(include=\"all\")"
      ],
      "execution_count": 31,
      "outputs": [
        {
          "output_type": "execute_result",
          "data": {
            "text/html": [
              "<div>\n",
              "<style scoped>\n",
              "    .dataframe tbody tr th:only-of-type {\n",
              "        vertical-align: middle;\n",
              "    }\n",
              "\n",
              "    .dataframe tbody tr th {\n",
              "        vertical-align: top;\n",
              "    }\n",
              "\n",
              "    .dataframe thead th {\n",
              "        text-align: right;\n",
              "    }\n",
              "</style>\n",
              "<table border=\"1\" class=\"dataframe\">\n",
              "  <thead>\n",
              "    <tr style=\"text-align: right;\">\n",
              "      <th></th>\n",
              "      <th>record_id</th>\n",
              "      <th>utility_id_ferc1</th>\n",
              "      <th>report_year</th>\n",
              "      <th>plant_name_ferc1</th>\n",
              "      <th>fuel_type_code_pudl</th>\n",
              "      <th>fuel_unit</th>\n",
              "      <th>fuel_qty_burned</th>\n",
              "      <th>fuel_mmbtu_per_unit</th>\n",
              "      <th>fuel_cost_per_unit_burned</th>\n",
              "      <th>fuel_cost_per_unit_delivered</th>\n",
              "      <th>fuel_cost_per_mmbtu</th>\n",
              "    </tr>\n",
              "  </thead>\n",
              "  <tbody>\n",
              "    <tr>\n",
              "      <th>count</th>\n",
              "      <td>29523</td>\n",
              "      <td>29523.000000</td>\n",
              "      <td>29523.000000</td>\n",
              "      <td>29523</td>\n",
              "      <td>29523</td>\n",
              "      <td>29343</td>\n",
              "      <td>2.952300e+04</td>\n",
              "      <td>29523.000000</td>\n",
              "      <td>29523.000000</td>\n",
              "      <td>2.952300e+04</td>\n",
              "      <td>29523.000000</td>\n",
              "    </tr>\n",
              "    <tr>\n",
              "      <th>unique</th>\n",
              "      <td>29523</td>\n",
              "      <td>NaN</td>\n",
              "      <td>NaN</td>\n",
              "      <td>2315</td>\n",
              "      <td>6</td>\n",
              "      <td>9</td>\n",
              "      <td>NaN</td>\n",
              "      <td>NaN</td>\n",
              "      <td>NaN</td>\n",
              "      <td>NaN</td>\n",
              "      <td>NaN</td>\n",
              "    </tr>\n",
              "    <tr>\n",
              "      <th>top</th>\n",
              "      <td>f1_fuel_1996_12_100_0_1</td>\n",
              "      <td>NaN</td>\n",
              "      <td>NaN</td>\n",
              "      <td>big stone</td>\n",
              "      <td>gas</td>\n",
              "      <td>mcf</td>\n",
              "      <td>NaN</td>\n",
              "      <td>NaN</td>\n",
              "      <td>NaN</td>\n",
              "      <td>NaN</td>\n",
              "      <td>NaN</td>\n",
              "    </tr>\n",
              "    <tr>\n",
              "      <th>freq</th>\n",
              "      <td>1</td>\n",
              "      <td>NaN</td>\n",
              "      <td>NaN</td>\n",
              "      <td>156</td>\n",
              "      <td>11486</td>\n",
              "      <td>11354</td>\n",
              "      <td>NaN</td>\n",
              "      <td>NaN</td>\n",
              "      <td>NaN</td>\n",
              "      <td>NaN</td>\n",
              "      <td>NaN</td>\n",
              "    </tr>\n",
              "    <tr>\n",
              "      <th>mean</th>\n",
              "      <td>NaN</td>\n",
              "      <td>118.601836</td>\n",
              "      <td>2005.806050</td>\n",
              "      <td>NaN</td>\n",
              "      <td>NaN</td>\n",
              "      <td>NaN</td>\n",
              "      <td>2.622119e+06</td>\n",
              "      <td>8.492111</td>\n",
              "      <td>208.649031</td>\n",
              "      <td>9.175704e+02</td>\n",
              "      <td>19.304354</td>\n",
              "    </tr>\n",
              "    <tr>\n",
              "      <th>std</th>\n",
              "      <td>NaN</td>\n",
              "      <td>74.178353</td>\n",
              "      <td>7.025483</td>\n",
              "      <td>NaN</td>\n",
              "      <td>NaN</td>\n",
              "      <td>NaN</td>\n",
              "      <td>9.118004e+06</td>\n",
              "      <td>10.600220</td>\n",
              "      <td>2854.490090</td>\n",
              "      <td>6.877593e+04</td>\n",
              "      <td>2091.540939</td>\n",
              "    </tr>\n",
              "    <tr>\n",
              "      <th>min</th>\n",
              "      <td>NaN</td>\n",
              "      <td>1.000000</td>\n",
              "      <td>1994.000000</td>\n",
              "      <td>NaN</td>\n",
              "      <td>NaN</td>\n",
              "      <td>NaN</td>\n",
              "      <td>1.000000e+00</td>\n",
              "      <td>0.000001</td>\n",
              "      <td>-276.080000</td>\n",
              "      <td>-8.749370e+02</td>\n",
              "      <td>-41.501000</td>\n",
              "    </tr>\n",
              "    <tr>\n",
              "      <th>25%</th>\n",
              "      <td>NaN</td>\n",
              "      <td>55.000000</td>\n",
              "      <td>2000.000000</td>\n",
              "      <td>NaN</td>\n",
              "      <td>NaN</td>\n",
              "      <td>NaN</td>\n",
              "      <td>1.381700e+04</td>\n",
              "      <td>1.024000</td>\n",
              "      <td>5.207000</td>\n",
              "      <td>3.778500e+00</td>\n",
              "      <td>1.940000</td>\n",
              "    </tr>\n",
              "    <tr>\n",
              "      <th>50%</th>\n",
              "      <td>NaN</td>\n",
              "      <td>122.000000</td>\n",
              "      <td>2006.000000</td>\n",
              "      <td>NaN</td>\n",
              "      <td>NaN</td>\n",
              "      <td>NaN</td>\n",
              "      <td>2.533220e+05</td>\n",
              "      <td>5.762694</td>\n",
              "      <td>26.000000</td>\n",
              "      <td>1.737100e+01</td>\n",
              "      <td>4.127000</td>\n",
              "    </tr>\n",
              "    <tr>\n",
              "      <th>75%</th>\n",
              "      <td>NaN</td>\n",
              "      <td>176.000000</td>\n",
              "      <td>2012.000000</td>\n",
              "      <td>NaN</td>\n",
              "      <td>NaN</td>\n",
              "      <td>NaN</td>\n",
              "      <td>1.424034e+06</td>\n",
              "      <td>17.006000</td>\n",
              "      <td>47.113000</td>\n",
              "      <td>4.213700e+01</td>\n",
              "      <td>7.745000</td>\n",
              "    </tr>\n",
              "    <tr>\n",
              "      <th>max</th>\n",
              "      <td>NaN</td>\n",
              "      <td>514.000000</td>\n",
              "      <td>2018.000000</td>\n",
              "      <td>NaN</td>\n",
              "      <td>NaN</td>\n",
              "      <td>NaN</td>\n",
              "      <td>5.558942e+08</td>\n",
              "      <td>341.260000</td>\n",
              "      <td>139358.000000</td>\n",
              "      <td>7.964521e+06</td>\n",
              "      <td>359278.000000</td>\n",
              "    </tr>\n",
              "  </tbody>\n",
              "</table>\n",
              "</div>"
            ],
            "text/plain": [
              "                      record_id  ...  fuel_cost_per_mmbtu\n",
              "count                     29523  ...         29523.000000\n",
              "unique                    29523  ...                  NaN\n",
              "top     f1_fuel_1996_12_100_0_1  ...                  NaN\n",
              "freq                          1  ...                  NaN\n",
              "mean                        NaN  ...            19.304354\n",
              "std                         NaN  ...          2091.540939\n",
              "min                         NaN  ...           -41.501000\n",
              "25%                         NaN  ...             1.940000\n",
              "50%                         NaN  ...             4.127000\n",
              "75%                         NaN  ...             7.745000\n",
              "max                         NaN  ...        359278.000000\n",
              "\n",
              "[11 rows x 11 columns]"
            ]
          },
          "metadata": {
            "tags": []
          },
          "execution_count": 31
        }
      ]
    },
    {
      "cell_type": "markdown",
      "metadata": {
        "id": "HBOgEbjbOg2n",
        "colab_type": "text"
      },
      "source": [
        "to get the skewness and kurtosis"
      ]
    },
    {
      "cell_type": "code",
      "metadata": {
        "id": "Hf-F-YqNNHoP",
        "colab_type": "code",
        "colab": {
          "base_uri": "https://localhost:8080/",
          "height": 164
        },
        "outputId": "29a7b6b6-78cd-4664-fb80-2ee5f98638c7"
      },
      "source": [
        "energy_data.skew(axis = 0, skipna=True)"
      ],
      "execution_count": 32,
      "outputs": [
        {
          "output_type": "execute_result",
          "data": {
            "text/plain": [
              "utility_id_ferc1                  0.605070\n",
              "report_year                       0.006953\n",
              "fuel_qty_burned                  15.851495\n",
              "fuel_mmbtu_per_unit               4.135217\n",
              "fuel_cost_per_unit_burned        19.787440\n",
              "fuel_cost_per_unit_delivered    105.014227\n",
              "fuel_cost_per_mmbtu             171.675535\n",
              "dtype: float64"
            ]
          },
          "metadata": {
            "tags": []
          },
          "execution_count": 32
        }
      ]
    },
    {
      "cell_type": "code",
      "metadata": {
        "id": "kaUgFebpNJb8",
        "colab_type": "code",
        "colab": {
          "base_uri": "https://localhost:8080/",
          "height": 164
        },
        "outputId": "ede560dd-23b5-4ebf-9a4c-19ba88804560"
      },
      "source": [
        "energy_data.kurtosis(axis=0, skipna=True)"
      ],
      "execution_count": 33,
      "outputs": [
        {
          "output_type": "execute_result",
          "data": {
            "text/plain": [
              "utility_id_ferc1                    1.088432\n",
              "report_year                        -1.145656\n",
              "fuel_qty_burned                   651.369450\n",
              "fuel_mmbtu_per_unit                55.595695\n",
              "fuel_cost_per_unit_burned         485.255851\n",
              "fuel_cost_per_unit_delivered    11765.054226\n",
              "fuel_cost_per_mmbtu             29489.132594\n",
              "dtype: float64"
            ]
          },
          "metadata": {
            "tags": []
          },
          "execution_count": 33
        }
      ]
    },
    {
      "cell_type": "markdown",
      "metadata": {
        "id": "yg7I9sisOtBw",
        "colab_type": "text"
      },
      "source": [
        "to find columns with missing values and the percentage"
      ]
    },
    {
      "cell_type": "code",
      "metadata": {
        "id": "8LhcZnvOCkvg",
        "colab_type": "code",
        "colab": {
          "base_uri": "https://localhost:8080/",
          "height": 237
        },
        "outputId": "0dc5e37f-5a15-48d6-bd81-d9dfd7be7f42"
      },
      "source": [
        "energy_data.isnull().sum()"
      ],
      "execution_count": 5,
      "outputs": [
        {
          "output_type": "execute_result",
          "data": {
            "text/plain": [
              "record_id                         0\n",
              "utility_id_ferc1                  0\n",
              "report_year                       0\n",
              "plant_name_ferc1                  0\n",
              "fuel_type_code_pudl               0\n",
              "fuel_unit                       180\n",
              "fuel_qty_burned                   0\n",
              "fuel_mmbtu_per_unit               0\n",
              "fuel_cost_per_unit_burned         0\n",
              "fuel_cost_per_unit_delivered      0\n",
              "fuel_cost_per_mmbtu               0\n",
              "dtype: int64"
            ]
          },
          "metadata": {
            "tags": []
          },
          "execution_count": 5
        }
      ]
    },
    {
      "cell_type": "code",
      "metadata": {
        "id": "D5DsITkWCpPq",
        "colab_type": "code",
        "colab": {}
      },
      "source": [
        "percent=energy_data.isnull().sum() * 100 /len(energy_data)"
      ],
      "execution_count": 9,
      "outputs": []
    },
    {
      "cell_type": "code",
      "metadata": {
        "id": "ToM6QiynDfFl",
        "colab_type": "code",
        "colab": {
          "base_uri": "https://localhost:8080/",
          "height": 237
        },
        "outputId": "bf39ed30-589d-4d7b-8c09-ae0adbbcbda2"
      },
      "source": [
        "print(percent)"
      ],
      "execution_count": 10,
      "outputs": [
        {
          "output_type": "stream",
          "text": [
            "record_id                       0.000000\n",
            "utility_id_ferc1                0.000000\n",
            "report_year                     0.000000\n",
            "plant_name_ferc1                0.000000\n",
            "fuel_type_code_pudl             0.000000\n",
            "fuel_unit                       0.609694\n",
            "fuel_qty_burned                 0.000000\n",
            "fuel_mmbtu_per_unit             0.000000\n",
            "fuel_cost_per_unit_burned       0.000000\n",
            "fuel_cost_per_unit_delivered    0.000000\n",
            "fuel_cost_per_mmbtu             0.000000\n",
            "dtype: float64\n"
          ],
          "name": "stdout"
        }
      ]
    },
    {
      "cell_type": "markdown",
      "metadata": {
        "id": "IBwZwa4kO4k5",
        "colab_type": "text"
      },
      "source": [
        "to find fuel type with lowest average fuel cost per unit burned"
      ]
    },
    {
      "cell_type": "code",
      "metadata": {
        "id": "5OiLAhCeMbQ6",
        "colab_type": "code",
        "colab": {
          "base_uri": "https://localhost:8080/",
          "height": 475
        },
        "outputId": "569f3e2e-71d2-4056-8cf2-917d488936c4"
      },
      "source": [
        "energy_data.groupby('fuel_cost_per_unit_burned').first()"
      ],
      "execution_count": 30,
      "outputs": [
        {
          "output_type": "execute_result",
          "data": {
            "text/html": [
              "<div>\n",
              "<style scoped>\n",
              "    .dataframe tbody tr th:only-of-type {\n",
              "        vertical-align: middle;\n",
              "    }\n",
              "\n",
              "    .dataframe tbody tr th {\n",
              "        vertical-align: top;\n",
              "    }\n",
              "\n",
              "    .dataframe thead th {\n",
              "        text-align: right;\n",
              "    }\n",
              "</style>\n",
              "<table border=\"1\" class=\"dataframe\">\n",
              "  <thead>\n",
              "    <tr style=\"text-align: right;\">\n",
              "      <th></th>\n",
              "      <th>record_id</th>\n",
              "      <th>utility_id_ferc1</th>\n",
              "      <th>report_year</th>\n",
              "      <th>plant_name_ferc1</th>\n",
              "      <th>fuel_type_code_pudl</th>\n",
              "      <th>fuel_unit</th>\n",
              "      <th>fuel_qty_burned</th>\n",
              "      <th>fuel_mmbtu_per_unit</th>\n",
              "      <th>fuel_cost_per_unit_delivered</th>\n",
              "      <th>fuel_cost_per_mmbtu</th>\n",
              "    </tr>\n",
              "    <tr>\n",
              "      <th>fuel_cost_per_unit_burned</th>\n",
              "      <th></th>\n",
              "      <th></th>\n",
              "      <th></th>\n",
              "      <th></th>\n",
              "      <th></th>\n",
              "      <th></th>\n",
              "      <th></th>\n",
              "      <th></th>\n",
              "      <th></th>\n",
              "      <th></th>\n",
              "    </tr>\n",
              "  </thead>\n",
              "  <tbody>\n",
              "    <tr>\n",
              "      <th>-276.080</th>\n",
              "      <td>f1_fuel_2000_12_194_3_3</td>\n",
              "      <td>194</td>\n",
              "      <td>2000</td>\n",
              "      <td>nelson dewey unit 2</td>\n",
              "      <td>waste</td>\n",
              "      <td>ton</td>\n",
              "      <td>39.0</td>\n",
              "      <td>0.015500</td>\n",
              "      <td>-174.670</td>\n",
              "      <td>-8.906</td>\n",
              "    </tr>\n",
              "    <tr>\n",
              "      <th>-174.670</th>\n",
              "      <td>f1_fuel_2000_12_194_3_6</td>\n",
              "      <td>194</td>\n",
              "      <td>2000</td>\n",
              "      <td>nelson dewey u 1&amp;2</td>\n",
              "      <td>waste</td>\n",
              "      <td>ton</td>\n",
              "      <td>116.0</td>\n",
              "      <td>0.015500</td>\n",
              "      <td>-174.670</td>\n",
              "      <td>-5.635</td>\n",
              "    </tr>\n",
              "    <tr>\n",
              "      <th>-123.310</th>\n",
              "      <td>f1_fuel_2000_12_194_2_15</td>\n",
              "      <td>194</td>\n",
              "      <td>2000</td>\n",
              "      <td>nelson dewey unit 1</td>\n",
              "      <td>waste</td>\n",
              "      <td>ton</td>\n",
              "      <td>77.0</td>\n",
              "      <td>0.015500</td>\n",
              "      <td>-174.670</td>\n",
              "      <td>-3.978</td>\n",
              "    </tr>\n",
              "    <tr>\n",
              "      <th>-119.040</th>\n",
              "      <td>f1_fuel_2003_12_281_1_4</td>\n",
              "      <td>281</td>\n",
              "      <td>2003</td>\n",
              "      <td>sixth street (cont)</td>\n",
              "      <td>other</td>\n",
              "      <td>ton</td>\n",
              "      <td>1159.0</td>\n",
              "      <td>0.012731</td>\n",
              "      <td>-118.340</td>\n",
              "      <td>-5.750</td>\n",
              "    </tr>\n",
              "    <tr>\n",
              "      <th>-85.760</th>\n",
              "      <td>f1_fuel_1995_12_194_5_9</td>\n",
              "      <td>194</td>\n",
              "      <td>1995</td>\n",
              "      <td>rock river unit 1</td>\n",
              "      <td>waste</td>\n",
              "      <td>ton</td>\n",
              "      <td>6072.0</td>\n",
              "      <td>0.013457</td>\n",
              "      <td>-85.640</td>\n",
              "      <td>-3.186</td>\n",
              "    </tr>\n",
              "    <tr>\n",
              "      <th>...</th>\n",
              "      <td>...</td>\n",
              "      <td>...</td>\n",
              "      <td>...</td>\n",
              "      <td>...</td>\n",
              "      <td>...</td>\n",
              "      <td>...</td>\n",
              "      <td>...</td>\n",
              "      <td>...</td>\n",
              "      <td>...</td>\n",
              "      <td>...</td>\n",
              "    </tr>\n",
              "    <tr>\n",
              "      <th>65137.588</th>\n",
              "      <td>f1_fuel_2012_12_7_7_13</td>\n",
              "      <td>7</td>\n",
              "      <td>2012</td>\n",
              "      <td>palo verde 2</td>\n",
              "      <td>nuclear</td>\n",
              "      <td>kgU</td>\n",
              "      <td>465.0</td>\n",
              "      <td>0.066706</td>\n",
              "      <td>2958.417</td>\n",
              "      <td>0.976</td>\n",
              "    </tr>\n",
              "    <tr>\n",
              "      <th>69785.215</th>\n",
              "      <td>f1_fuel_2011_12_7_7_13</td>\n",
              "      <td>7</td>\n",
              "      <td>2011</td>\n",
              "      <td>palo verde 2</td>\n",
              "      <td>nuclear</td>\n",
              "      <td>kgU</td>\n",
              "      <td>467.0</td>\n",
              "      <td>0.066704</td>\n",
              "      <td>2834.457</td>\n",
              "      <td>1.046</td>\n",
              "    </tr>\n",
              "    <tr>\n",
              "      <th>80459.000</th>\n",
              "      <td>f1_fuel_2014_12_177_2_7</td>\n",
              "      <td>177</td>\n",
              "      <td>2014</td>\n",
              "      <td>howard bend c.t.</td>\n",
              "      <td>oil</td>\n",
              "      <td>bbl</td>\n",
              "      <td>76.0</td>\n",
              "      <td>5.984286</td>\n",
              "      <td>0.000</td>\n",
              "      <td>13.445</td>\n",
              "    </tr>\n",
              "    <tr>\n",
              "      <th>83538.000</th>\n",
              "      <td>f1_fuel_2011_12_132_1_2</td>\n",
              "      <td>132</td>\n",
              "      <td>2011</td>\n",
              "      <td>solway</td>\n",
              "      <td>oil</td>\n",
              "      <td>bbl</td>\n",
              "      <td>150.0</td>\n",
              "      <td>5.880000</td>\n",
              "      <td>137.172</td>\n",
              "      <td>14.207</td>\n",
              "    </tr>\n",
              "    <tr>\n",
              "      <th>139358.000</th>\n",
              "      <td>f1_fuel_2014_12_147_0_2</td>\n",
              "      <td>147</td>\n",
              "      <td>2014</td>\n",
              "      <td>san juan</td>\n",
              "      <td>oil</td>\n",
              "      <td>bbl</td>\n",
              "      <td>49418.0</td>\n",
              "      <td>6.172572</td>\n",
              "      <td>136410.000</td>\n",
              "      <td>22.577</td>\n",
              "    </tr>\n",
              "  </tbody>\n",
              "</table>\n",
              "<p>19416 rows × 10 columns</p>\n",
              "</div>"
            ],
            "text/plain": [
              "                                          record_id  ...  fuel_cost_per_mmbtu\n",
              "fuel_cost_per_unit_burned                            ...                     \n",
              "-276.080                    f1_fuel_2000_12_194_3_3  ...               -8.906\n",
              "-174.670                    f1_fuel_2000_12_194_3_6  ...               -5.635\n",
              "-123.310                   f1_fuel_2000_12_194_2_15  ...               -3.978\n",
              "-119.040                    f1_fuel_2003_12_281_1_4  ...               -5.750\n",
              "-85.760                     f1_fuel_1995_12_194_5_9  ...               -3.186\n",
              "...                                             ...  ...                  ...\n",
              " 65137.588                   f1_fuel_2012_12_7_7_13  ...                0.976\n",
              " 69785.215                   f1_fuel_2011_12_7_7_13  ...                1.046\n",
              " 80459.000                  f1_fuel_2014_12_177_2_7  ...               13.445\n",
              " 83538.000                  f1_fuel_2011_12_132_1_2  ...               14.207\n",
              " 139358.000                 f1_fuel_2014_12_147_0_2  ...               22.577\n",
              "\n",
              "[19416 rows x 10 columns]"
            ]
          },
          "metadata": {
            "tags": []
          },
          "execution_count": 30
        }
      ]
    },
    {
      "cell_type": "markdown",
      "metadata": {
        "id": "rIVidckZPj1P",
        "colab_type": "text"
      },
      "source": [
        "to find correlation of fuel cost per unit burned"
      ]
    },
    {
      "cell_type": "code",
      "metadata": {
        "id": "bhfxKck3D_Cl",
        "colab_type": "code",
        "colab": {}
      },
      "source": [
        "corr= energy_data.corr()"
      ],
      "execution_count": 12,
      "outputs": []
    },
    {
      "cell_type": "code",
      "metadata": {
        "id": "j-LDgMRiFknO",
        "colab_type": "code",
        "colab": {
          "base_uri": "https://localhost:8080/",
          "height": 289
        },
        "outputId": "744e6439-6a5e-4da1-e86d-d6d3e77a5f69"
      },
      "source": [
        "energy_data.corr(method='pearson')"
      ],
      "execution_count": 15,
      "outputs": [
        {
          "output_type": "execute_result",
          "data": {
            "text/html": [
              "<div>\n",
              "<style scoped>\n",
              "    .dataframe tbody tr th:only-of-type {\n",
              "        vertical-align: middle;\n",
              "    }\n",
              "\n",
              "    .dataframe tbody tr th {\n",
              "        vertical-align: top;\n",
              "    }\n",
              "\n",
              "    .dataframe thead th {\n",
              "        text-align: right;\n",
              "    }\n",
              "</style>\n",
              "<table border=\"1\" class=\"dataframe\">\n",
              "  <thead>\n",
              "    <tr style=\"text-align: right;\">\n",
              "      <th></th>\n",
              "      <th>utility_id_ferc1</th>\n",
              "      <th>report_year</th>\n",
              "      <th>fuel_qty_burned</th>\n",
              "      <th>fuel_mmbtu_per_unit</th>\n",
              "      <th>fuel_cost_per_unit_burned</th>\n",
              "      <th>fuel_cost_per_unit_delivered</th>\n",
              "      <th>fuel_cost_per_mmbtu</th>\n",
              "    </tr>\n",
              "  </thead>\n",
              "  <tbody>\n",
              "    <tr>\n",
              "      <th>utility_id_ferc1</th>\n",
              "      <td>1.000000</td>\n",
              "      <td>0.093323</td>\n",
              "      <td>-0.057447</td>\n",
              "      <td>-0.066946</td>\n",
              "      <td>-0.037863</td>\n",
              "      <td>-0.016414</td>\n",
              "      <td>0.006122</td>\n",
              "    </tr>\n",
              "    <tr>\n",
              "      <th>report_year</th>\n",
              "      <td>0.093323</td>\n",
              "      <td>1.000000</td>\n",
              "      <td>0.012952</td>\n",
              "      <td>-0.110853</td>\n",
              "      <td>0.013599</td>\n",
              "      <td>-0.014043</td>\n",
              "      <td>0.010261</td>\n",
              "    </tr>\n",
              "    <tr>\n",
              "      <th>fuel_qty_burned</th>\n",
              "      <td>-0.057447</td>\n",
              "      <td>0.012952</td>\n",
              "      <td>1.000000</td>\n",
              "      <td>-0.080946</td>\n",
              "      <td>-0.018535</td>\n",
              "      <td>-0.003551</td>\n",
              "      <td>-0.001896</td>\n",
              "    </tr>\n",
              "    <tr>\n",
              "      <th>fuel_mmbtu_per_unit</th>\n",
              "      <td>-0.066946</td>\n",
              "      <td>-0.110853</td>\n",
              "      <td>-0.080946</td>\n",
              "      <td>1.000000</td>\n",
              "      <td>-0.010034</td>\n",
              "      <td>-0.009039</td>\n",
              "      <td>-0.005884</td>\n",
              "    </tr>\n",
              "    <tr>\n",
              "      <th>fuel_cost_per_unit_burned</th>\n",
              "      <td>-0.037863</td>\n",
              "      <td>0.013599</td>\n",
              "      <td>-0.018535</td>\n",
              "      <td>-0.010034</td>\n",
              "      <td>1.000000</td>\n",
              "      <td>0.011007</td>\n",
              "      <td>-0.000437</td>\n",
              "    </tr>\n",
              "    <tr>\n",
              "      <th>fuel_cost_per_unit_delivered</th>\n",
              "      <td>-0.016414</td>\n",
              "      <td>-0.014043</td>\n",
              "      <td>-0.003551</td>\n",
              "      <td>-0.009039</td>\n",
              "      <td>0.011007</td>\n",
              "      <td>1.000000</td>\n",
              "      <td>-0.000109</td>\n",
              "    </tr>\n",
              "    <tr>\n",
              "      <th>fuel_cost_per_mmbtu</th>\n",
              "      <td>0.006122</td>\n",
              "      <td>0.010261</td>\n",
              "      <td>-0.001896</td>\n",
              "      <td>-0.005884</td>\n",
              "      <td>-0.000437</td>\n",
              "      <td>-0.000109</td>\n",
              "      <td>1.000000</td>\n",
              "    </tr>\n",
              "  </tbody>\n",
              "</table>\n",
              "</div>"
            ],
            "text/plain": [
              "                              utility_id_ferc1  ...  fuel_cost_per_mmbtu\n",
              "utility_id_ferc1                      1.000000  ...             0.006122\n",
              "report_year                           0.093323  ...             0.010261\n",
              "fuel_qty_burned                      -0.057447  ...            -0.001896\n",
              "fuel_mmbtu_per_unit                  -0.066946  ...            -0.005884\n",
              "fuel_cost_per_unit_burned            -0.037863  ...            -0.000437\n",
              "fuel_cost_per_unit_delivered         -0.016414  ...            -0.000109\n",
              "fuel_cost_per_mmbtu                   0.006122  ...             1.000000\n",
              "\n",
              "[7 rows x 7 columns]"
            ]
          },
          "metadata": {
            "tags": []
          },
          "execution_count": 15
        }
      ]
    },
    {
      "cell_type": "markdown",
      "metadata": {
        "id": "HyoZ6Wx7Px2p",
        "colab_type": "text"
      },
      "source": [
        "to replace missing values with most common value"
      ]
    },
    {
      "cell_type": "code",
      "metadata": {
        "id": "mDYWOFVSNX2_",
        "colab_type": "code",
        "colab": {
          "base_uri": "https://localhost:8080/",
          "height": 237
        },
        "outputId": "5982a0b9-5097-4232-bb4e-e5c89600e62b"
      },
      "source": [
        "energy_data.isnull().sum()"
      ],
      "execution_count": 34,
      "outputs": [
        {
          "output_type": "execute_result",
          "data": {
            "text/plain": [
              "record_id                         0\n",
              "utility_id_ferc1                  0\n",
              "report_year                       0\n",
              "plant_name_ferc1                  0\n",
              "fuel_type_code_pudl               0\n",
              "fuel_unit                       180\n",
              "fuel_qty_burned                   0\n",
              "fuel_mmbtu_per_unit               0\n",
              "fuel_cost_per_unit_burned         0\n",
              "fuel_cost_per_unit_delivered      0\n",
              "fuel_cost_per_mmbtu               0\n",
              "dtype: int64"
            ]
          },
          "metadata": {
            "tags": []
          },
          "execution_count": 34
        }
      ]
    },
    {
      "cell_type": "code",
      "metadata": {
        "id": "_vCY8E1wIKTP",
        "colab_type": "code",
        "colab": {
          "base_uri": "https://localhost:8080/",
          "height": 219
        },
        "outputId": "58d2d257-7e35-481d-e919-8cf740c89f92"
      },
      "source": [
        "energy_data.groupby('fuel_unit')['fuel_unit'].count()"
      ],
      "execution_count": 36,
      "outputs": [
        {
          "output_type": "execute_result",
          "data": {
            "text/plain": [
              "fuel_unit\n",
              "bbl        7998\n",
              "gal          84\n",
              "gramsU      464\n",
              "kgU         110\n",
              "mcf       11354\n",
              "mmbtu       180\n",
              "mwdth        95\n",
              "mwhth       100\n",
              "ton        8958\n",
              "Name: fuel_unit, dtype: int64"
            ]
          },
          "metadata": {
            "tags": []
          },
          "execution_count": 36
        }
      ]
    },
    {
      "cell_type": "code",
      "metadata": {
        "id": "pkeacoP8NiYx",
        "colab_type": "code",
        "colab": {}
      },
      "source": [
        "energy_data[['fuel_unit']] = energy_data[['fuel_unit']].fillna(value='mfc')"
      ],
      "execution_count": 37,
      "outputs": []
    },
    {
      "cell_type": "markdown",
      "metadata": {
        "id": "cAQDBp8QP7kw",
        "colab_type": "text"
      },
      "source": [
        "to find year with highest average fuel cost per unit delivered"
      ]
    },
    {
      "cell_type": "code",
      "metadata": {
        "id": "4xsQmSwbNaO8",
        "colab_type": "code",
        "colab": {
          "base_uri": "https://localhost:8080/",
          "height": 475
        },
        "outputId": "f7601228-4762-4ba9-d6fe-f6ccdb77c2e2"
      },
      "source": [
        "energy_data.groupby('fuel_cost_per_unit_delivered').first()"
      ],
      "execution_count": 38,
      "outputs": [
        {
          "output_type": "execute_result",
          "data": {
            "text/html": [
              "<div>\n",
              "<style scoped>\n",
              "    .dataframe tbody tr th:only-of-type {\n",
              "        vertical-align: middle;\n",
              "    }\n",
              "\n",
              "    .dataframe tbody tr th {\n",
              "        vertical-align: top;\n",
              "    }\n",
              "\n",
              "    .dataframe thead th {\n",
              "        text-align: right;\n",
              "    }\n",
              "</style>\n",
              "<table border=\"1\" class=\"dataframe\">\n",
              "  <thead>\n",
              "    <tr style=\"text-align: right;\">\n",
              "      <th></th>\n",
              "      <th>record_id</th>\n",
              "      <th>utility_id_ferc1</th>\n",
              "      <th>report_year</th>\n",
              "      <th>plant_name_ferc1</th>\n",
              "      <th>fuel_type_code_pudl</th>\n",
              "      <th>fuel_unit</th>\n",
              "      <th>fuel_qty_burned</th>\n",
              "      <th>fuel_mmbtu_per_unit</th>\n",
              "      <th>fuel_cost_per_unit_burned</th>\n",
              "      <th>fuel_cost_per_mmbtu</th>\n",
              "    </tr>\n",
              "    <tr>\n",
              "      <th>fuel_cost_per_unit_delivered</th>\n",
              "      <th></th>\n",
              "      <th></th>\n",
              "      <th></th>\n",
              "      <th></th>\n",
              "      <th></th>\n",
              "      <th></th>\n",
              "      <th></th>\n",
              "      <th></th>\n",
              "      <th></th>\n",
              "      <th></th>\n",
              "    </tr>\n",
              "  </thead>\n",
              "  <tbody>\n",
              "    <tr>\n",
              "      <th>-874.937</th>\n",
              "      <td>f1_fuel_2008_12_177_1_1</td>\n",
              "      <td>177</td>\n",
              "      <td>2008</td>\n",
              "      <td>mexico c.t.</td>\n",
              "      <td>oil</td>\n",
              "      <td>bbl</td>\n",
              "      <td>811.0</td>\n",
              "      <td>5.754000</td>\n",
              "      <td>86.628</td>\n",
              "      <td>15.055</td>\n",
              "    </tr>\n",
              "    <tr>\n",
              "      <th>-488.054</th>\n",
              "      <td>f1_fuel_2007_12_177_2_4</td>\n",
              "      <td>177</td>\n",
              "      <td>2007</td>\n",
              "      <td>mexico c.t.</td>\n",
              "      <td>oil</td>\n",
              "      <td>bbl</td>\n",
              "      <td>2240.0</td>\n",
              "      <td>5.754000</td>\n",
              "      <td>77.605</td>\n",
              "      <td>13.487</td>\n",
              "    </tr>\n",
              "    <tr>\n",
              "      <th>-313.410</th>\n",
              "      <td>f1_fuel_2004_12_210_1_6</td>\n",
              "      <td>210</td>\n",
              "      <td>2004</td>\n",
              "      <td>sycamore</td>\n",
              "      <td>oil</td>\n",
              "      <td>bbl</td>\n",
              "      <td>588.0</td>\n",
              "      <td>5.712420</td>\n",
              "      <td>38.722</td>\n",
              "      <td>6.779</td>\n",
              "    </tr>\n",
              "    <tr>\n",
              "      <th>-174.670</th>\n",
              "      <td>f1_fuel_2000_12_194_2_15</td>\n",
              "      <td>194</td>\n",
              "      <td>2000</td>\n",
              "      <td>nelson dewey unit 1</td>\n",
              "      <td>waste</td>\n",
              "      <td>ton</td>\n",
              "      <td>77.0</td>\n",
              "      <td>0.015500</td>\n",
              "      <td>-123.310</td>\n",
              "      <td>-3.978</td>\n",
              "    </tr>\n",
              "    <tr>\n",
              "      <th>-170.187</th>\n",
              "      <td>f1_fuel_2015_12_6_1_2</td>\n",
              "      <td>6</td>\n",
              "      <td>2015</td>\n",
              "      <td>philip sporn - apco</td>\n",
              "      <td>oil</td>\n",
              "      <td>bbl</td>\n",
              "      <td>2292.0</td>\n",
              "      <td>5.727204</td>\n",
              "      <td>123.751</td>\n",
              "      <td>21.608</td>\n",
              "    </tr>\n",
              "    <tr>\n",
              "      <th>...</th>\n",
              "      <td>...</td>\n",
              "      <td>...</td>\n",
              "      <td>...</td>\n",
              "      <td>...</td>\n",
              "      <td>...</td>\n",
              "      <td>...</td>\n",
              "      <td>...</td>\n",
              "      <td>...</td>\n",
              "      <td>...</td>\n",
              "      <td>...</td>\n",
              "    </tr>\n",
              "    <tr>\n",
              "      <th>1942979.000</th>\n",
              "      <td>f1_fuel_1997_12_9_0_14</td>\n",
              "      <td>9</td>\n",
              "      <td>1997</td>\n",
              "      <td>hope creek 1</td>\n",
              "      <td>nuclear</td>\n",
              "      <td>gramsU</td>\n",
              "      <td>52526.0</td>\n",
              "      <td>0.000066</td>\n",
              "      <td>39.660</td>\n",
              "      <td>0.560</td>\n",
              "    </tr>\n",
              "    <tr>\n",
              "      <th>2114508.000</th>\n",
              "      <td>f1_fuel_1996_12_9_0_14</td>\n",
              "      <td>9</td>\n",
              "      <td>1996</td>\n",
              "      <td>hope creek 1</td>\n",
              "      <td>nuclear</td>\n",
              "      <td>gramsU</td>\n",
              "      <td>58795.0</td>\n",
              "      <td>0.000065</td>\n",
              "      <td>35.964</td>\n",
              "      <td>0.095</td>\n",
              "    </tr>\n",
              "    <tr>\n",
              "      <th>2255688.000</th>\n",
              "      <td>f1_fuel_1997_12_9_0_11</td>\n",
              "      <td>9</td>\n",
              "      <td>1997</td>\n",
              "      <td>salem 1&amp;2</td>\n",
              "      <td>nuclear</td>\n",
              "      <td>gramsU</td>\n",
              "      <td>36919.0</td>\n",
              "      <td>0.000056</td>\n",
              "      <td>61.100</td>\n",
              "      <td>1.087</td>\n",
              "    </tr>\n",
              "    <tr>\n",
              "      <th>7793482.000</th>\n",
              "      <td>f1_fuel_1996_12_9_0_8</td>\n",
              "      <td>9</td>\n",
              "      <td>1996</td>\n",
              "      <td>peach bt 2&amp;3</td>\n",
              "      <td>nuclear</td>\n",
              "      <td>gramsU</td>\n",
              "      <td>211407.0</td>\n",
              "      <td>0.000065</td>\n",
              "      <td>36.865</td>\n",
              "      <td>0.145</td>\n",
              "    </tr>\n",
              "    <tr>\n",
              "      <th>7964521.000</th>\n",
              "      <td>f1_fuel_1997_12_9_0_8</td>\n",
              "      <td>9</td>\n",
              "      <td>1997</td>\n",
              "      <td>peach bt 2&amp;3</td>\n",
              "      <td>nuclear</td>\n",
              "      <td>gramsU</td>\n",
              "      <td>210474.0</td>\n",
              "      <td>0.000065</td>\n",
              "      <td>37.847</td>\n",
              "      <td>0.578</td>\n",
              "    </tr>\n",
              "  </tbody>\n",
              "</table>\n",
              "<p>16675 rows × 10 columns</p>\n",
              "</div>"
            ],
            "text/plain": [
              "                                             record_id  ...  fuel_cost_per_mmbtu\n",
              "fuel_cost_per_unit_delivered                            ...                     \n",
              "-874.937                       f1_fuel_2008_12_177_1_1  ...               15.055\n",
              "-488.054                       f1_fuel_2007_12_177_2_4  ...               13.487\n",
              "-313.410                       f1_fuel_2004_12_210_1_6  ...                6.779\n",
              "-174.670                      f1_fuel_2000_12_194_2_15  ...               -3.978\n",
              "-170.187                         f1_fuel_2015_12_6_1_2  ...               21.608\n",
              "...                                                ...  ...                  ...\n",
              " 1942979.000                    f1_fuel_1997_12_9_0_14  ...                0.560\n",
              " 2114508.000                    f1_fuel_1996_12_9_0_14  ...                0.095\n",
              " 2255688.000                    f1_fuel_1997_12_9_0_11  ...                1.087\n",
              " 7793482.000                     f1_fuel_1996_12_9_0_8  ...                0.145\n",
              " 7964521.000                     f1_fuel_1997_12_9_0_8  ...                0.578\n",
              "\n",
              "[16675 rows x 10 columns]"
            ]
          },
          "metadata": {
            "tags": []
          },
          "execution_count": 38
        }
      ]
    },
    {
      "cell_type": "code",
      "metadata": {
        "id": "JjOhlOPUR28Y",
        "colab_type": "code",
        "colab": {}
      },
      "source": [
        ""
      ],
      "execution_count": null,
      "outputs": []
    },
    {
      "cell_type": "code",
      "metadata": {
        "id": "l066DNv4OEpT",
        "colab_type": "code",
        "colab": {}
      },
      "source": [
        ""
      ],
      "execution_count": null,
      "outputs": []
    }
  ]
}